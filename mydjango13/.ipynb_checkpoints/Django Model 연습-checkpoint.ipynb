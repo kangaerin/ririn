{
 "cells": [
  {
   "cell_type": "code",
   "execution_count": 1,
   "id": "d78aed00",
   "metadata": {},
   "outputs": [],
   "source": [
    "#jupyter notebook에서 장고 환경 로딩하기\n",
    "import os\n",
    "os.environ[\"DJANGO_SETTINGS_MODULE\"] = \"mydjango13.settings\"\n",
    "os.environ[\"DJANGO_ALLOW_ASYNC_UNSAFE\"] = \"true\"\n",
    "\n",
    "import django\n",
    "django.setup()\n"
   ]
  },
  {
   "cell_type": "code",
   "execution_count": 2,
   "id": "13b7b307",
   "metadata": {},
   "outputs": [],
   "source": [
    "from mall.models import Shop"
   ]
  },
  {
   "cell_type": "code",
   "execution_count": 3,
   "id": "da210149",
   "metadata": {},
   "outputs": [
    {
     "name": "stderr",
     "output_type": "stream",
     "text": [
      "(0.000) SELECT \"mall_shop\".\"id\", \"mall_shop\".\"name\", \"mall_shop\".\"description\", \"mall_shop\".\"telephone\", \"mall_shop\".\"photo\", \"mall_shop\".\"cerated_at\", \"mall_shop\".\"updated_at\" FROM \"mall_shop\" ORDER BY \"mall_shop\".\"id\" DESC LIMIT 21; args=()\n"
     ]
    },
    {
     "data": {
      "text/plain": [
       "<QuerySet [<Shop: Shop object (4)>, <Shop: Shop object (3)>]>"
      ]
     },
     "execution_count": 3,
     "metadata": {},
     "output_type": "execute_result"
    }
   ],
   "source": [
    "Shop.objects.all()"
   ]
  },
  {
   "cell_type": "code",
   "execution_count": 4,
   "id": "d103a48a",
   "metadata": {},
   "outputs": [
    {
     "data": {
      "text/plain": [
       "mall.models.Shop"
      ]
     },
     "execution_count": 4,
     "metadata": {},
     "output_type": "execute_result"
    }
   ],
   "source": [
    "Shop"
   ]
  },
  {
   "cell_type": "markdown",
   "id": "9682ad14",
   "metadata": {},
   "source": [
    "# Create"
   ]
  },
  {
   "cell_type": "markdown",
   "id": "59dbf641",
   "metadata": {},
   "source": [
    "### *create 하는 방법"
   ]
  },
  {
   "cell_type": "code",
   "execution_count": 5,
   "id": "deebbbe8",
   "metadata": {},
   "outputs": [],
   "source": [
    "shop = Shop() # Shop는 클래스명. 대게 첫글자를 대문자로 사용함. First_shop(o), first_shop(x), first_Shop(x), \n",
    "shop.name = \"투썸플레이스\"\n",
    "shop.telephone = \"042-1234-1234\""
   ]
  },
  {
   "cell_type": "code",
   "execution_count": 6,
   "id": "47f55da5",
   "metadata": {},
   "outputs": [
    {
     "name": "stderr",
     "output_type": "stream",
     "text": [
      "(0.000) INSERT INTO \"mall_shop\" (\"name\", \"description\", \"telephone\", \"photo\", \"cerated_at\", \"updated_at\") VALUES ('투썸플레이스', '', '042-1234-1234', '', '2021-12-01 06:40:54.505580', '2021-12-01 06:40:54.505580'); args=['투썸플레이스', '', '042-1234-1234', '', '2021-12-01 06:40:54.505580', '2021-12-01 06:40:54.505580']\n"
     ]
    }
   ],
   "source": [
    "shop.save()"
   ]
  },
  {
   "cell_type": "code",
   "execution_count": null,
   "id": "fca08e11",
   "metadata": {},
   "outputs": [],
   "source": []
  },
  {
   "cell_type": "code",
   "execution_count": 7,
   "id": "c3da3ec3",
   "metadata": {},
   "outputs": [
    {
     "name": "stderr",
     "output_type": "stream",
     "text": [
      "(0.000) INSERT INTO \"mall_shop\" (\"name\", \"description\", \"telephone\", \"photo\", \"cerated_at\", \"updated_at\") VALUES ('셀프24시빨래방', '', '.042-1234-4321', '', '2021-12-01 06:40:54.521267', '2021-12-01 06:40:54.521267'); args=['셀프24시빨래방', '', '.042-1234-4321', '', '2021-12-01 06:40:54.521267', '2021-12-01 06:40:54.521267']\n"
     ]
    }
   ],
   "source": [
    "shop = Shop.objects.create(\n",
    "    name=\"셀프24시빨래방\",\n",
    "    telephone=\".042-1234-4321\",\n",
    ")"
   ]
  },
  {
   "cell_type": "code",
   "execution_count": null,
   "id": "71317fc5",
   "metadata": {},
   "outputs": [],
   "source": []
  },
  {
   "cell_type": "markdown",
   "id": "0f6fbe0a",
   "metadata": {},
   "source": [
    "# Select"
   ]
  },
  {
   "cell_type": "code",
   "execution_count": 8,
   "id": "2e5c0fb0",
   "metadata": {},
   "outputs": [],
   "source": [
    "qs = Shop.objects.all()\n",
    "# 순서가 미묘하게 달라질 수 있으니 정렬을 해줘야함."
   ]
  },
  {
   "cell_type": "code",
   "execution_count": 9,
   "id": "74aa753d",
   "metadata": {},
   "outputs": [
    {
     "name": "stderr",
     "output_type": "stream",
     "text": [
      "(0.000) SELECT \"mall_shop\".\"id\", \"mall_shop\".\"name\", \"mall_shop\".\"description\", \"mall_shop\".\"telephone\", \"mall_shop\".\"photo\", \"mall_shop\".\"cerated_at\", \"mall_shop\".\"updated_at\" FROM \"mall_shop\" ORDER BY \"mall_shop\".\"id\" DESC; args=()\n"
     ]
    },
    {
     "name": "stdout",
     "output_type": "stream",
     "text": [
      "6 셀프24시빨래방 .042-1234-4321\n",
      "5 투썸플레이스 042-1234-1234\n",
      "4 셀프24시빨래방 .042-1234-4321\n",
      "3 투썸플레이스 042-1234-1234\n"
     ]
    }
   ],
   "source": [
    "for shop in qs:\n",
    "    print(shop.pk,shop.name, shop.telephone)"
   ]
  },
  {
   "cell_type": "code",
   "execution_count": 10,
   "id": "3ca6b85a",
   "metadata": {},
   "outputs": [
    {
     "name": "stderr",
     "output_type": "stream",
     "text": [
      "(0.000) SELECT \"mall_shop\".\"id\", \"mall_shop\".\"name\", \"mall_shop\".\"description\", \"mall_shop\".\"telephone\", \"mall_shop\".\"photo\", \"mall_shop\".\"cerated_at\", \"mall_shop\".\"updated_at\" FROM \"mall_shop\" ORDER BY \"mall_shop\".\"id\" DESC LIMIT 21; args=()\n"
     ]
    },
    {
     "data": {
      "text/plain": [
       "<QuerySet [<Shop: Shop object (6)>, <Shop: Shop object (5)>, <Shop: Shop object (4)>, <Shop: Shop object (3)>]>"
      ]
     },
     "execution_count": 10,
     "metadata": {},
     "output_type": "execute_result"
    }
   ],
   "source": [
    "qs.order_by(\"-id\")\n",
    "\n",
    "# id - 오름차순 정렬 (asc)\n",
    "# -id - 내림차순 정렬 (desc)\n",
    "# \", created_at\") 정렬은 가급적 단일 컬럼 사용"
   ]
  },
  {
   "cell_type": "code",
   "execution_count": 25,
   "id": "73ee6710",
   "metadata": {
    "scrolled": true
   },
   "outputs": [
    {
     "ename": "AssertionError",
     "evalue": "Negative indexing is not supported.",
     "output_type": "error",
     "traceback": [
      "\u001b[1;31m---------------------------------------------------------------------------\u001b[0m",
      "\u001b[1;31mAssertionError\u001b[0m                            Traceback (most recent call last)",
      "\u001b[1;32m~\\AppData\\Local\\Temp/ipykernel_1800/2026684882.py\u001b[0m in \u001b[0;36m<module>\u001b[1;34m\u001b[0m\n\u001b[1;32m----> 1\u001b[1;33m \u001b[0mqs\u001b[0m\u001b[1;33m[\u001b[0m\u001b[1;33m-\u001b[0m\u001b[1;36m10\u001b[0m\u001b[1;33m:\u001b[0m\u001b[1;33m]\u001b[0m \u001b[1;31m# 마지막 10개 > DB에서는 지원하지 않는 기능.\u001b[0m\u001b[1;33m\u001b[0m\u001b[1;33m\u001b[0m\u001b[0m\n\u001b[0m",
      "\u001b[1;32m~\\AppData\\Local\\Programs\\Python\\Python310\\lib\\site-packages\\django\\db\\models\\query.py\u001b[0m in \u001b[0;36m__getitem__\u001b[1;34m(self, k)\u001b[0m\n\u001b[0;32m    292\u001b[0m                 \u001b[1;33m%\u001b[0m \u001b[0mtype\u001b[0m\u001b[1;33m(\u001b[0m\u001b[0mk\u001b[0m\u001b[1;33m)\u001b[0m\u001b[1;33m.\u001b[0m\u001b[0m__name__\u001b[0m\u001b[1;33m\u001b[0m\u001b[1;33m\u001b[0m\u001b[0m\n\u001b[0;32m    293\u001b[0m             )\n\u001b[1;32m--> 294\u001b[1;33m         assert ((not isinstance(k, slice) and (k >= 0)) or\n\u001b[0m\u001b[0;32m    295\u001b[0m                 (isinstance(k, slice) and (k.start is None or k.start >= 0) and\n\u001b[0;32m    296\u001b[0m                  (k.stop is None or k.stop >= 0))), \\\n",
      "\u001b[1;31mAssertionError\u001b[0m: Negative indexing is not supported."
     ]
    }
   ],
   "source": [
    "qs[-10:] # 마지막 10개 > DB에서는 지원하지 않는 기능."
   ]
  },
  {
   "cell_type": "code",
   "execution_count": 26,
   "id": "22889018",
   "metadata": {},
   "outputs": [
    {
     "name": "stderr",
     "output_type": "stream",
     "text": [
      "(0.000) SELECT \"mall_shop\".\"id\", \"mall_shop\".\"name\", \"mall_shop\".\"description\", \"mall_shop\".\"telephone\", \"mall_shop\".\"photo\", \"mall_shop\".\"cerated_at\", \"mall_shop\".\"updated_at\" FROM \"mall_shop\" ORDER BY \"mall_shop\".\"id\" ASC LIMIT 10; args=()\n"
     ]
    },
    {
     "data": {
      "text/plain": [
       "<QuerySet [<Shop: Shop object (3)>, <Shop: Shop object (4)>, <Shop: Shop object (5)>, <Shop: Shop object (6)>, <Shop: Shop object (7)>, <Shop: Shop object (8)>, <Shop: Shop object (9)>, <Shop: Shop object (10)>, <Shop: Shop object (11)>, <Shop: Shop object (12)>]>"
      ]
     },
     "execution_count": 26,
     "metadata": {},
     "output_type": "execute_result"
    }
   ],
   "source": [
    "qs.order_by(\"id\")[:10]"
   ]
  },
  {
   "cell_type": "code",
   "execution_count": 27,
   "id": "63ddaf8c",
   "metadata": {},
   "outputs": [
    {
     "name": "stderr",
     "output_type": "stream",
     "text": [
      "(0.000) SELECT \"mall_shop\".\"id\", \"mall_shop\".\"name\", \"mall_shop\".\"description\", \"mall_shop\".\"telephone\", \"mall_shop\".\"photo\", \"mall_shop\".\"cerated_at\", \"mall_shop\".\"updated_at\" FROM \"mall_shop\" ORDER BY \"mall_shop\".\"id\" ASC LIMIT 10; args=()\n"
     ]
    },
    {
     "name": "stdout",
     "output_type": "stream",
     "text": [
      "12 가계명#6 042-1234-9006\n",
      "11 가계명#5 042-1234-9005\n",
      "10 가계명#4 042-1234-9004\n",
      "9 가계명#3 042-1234-9003\n",
      "8 가계명#2 042-1234-9002\n",
      "7 가계명#1 042-1234-9001\n",
      "6 셀프24시빨래방 .042-1234-4321\n",
      "5 투썸플레이스 042-1234-1234\n",
      "4 셀프24시빨래방 .042-1234-4321\n",
      "3 투썸플레이스 042-1234-1234\n"
     ]
    }
   ],
   "source": [
    "for shop in reversed(qs.order_by(\"id\")[:10]):\n",
    "    print(shop.pk, shop.name, shop.telephone)"
   ]
  },
  {
   "cell_type": "code",
   "execution_count": null,
   "id": "53223685",
   "metadata": {},
   "outputs": [],
   "source": []
  },
  {
   "cell_type": "code",
   "execution_count": null,
   "id": "10604860",
   "metadata": {},
   "outputs": [],
   "source": []
  },
  {
   "cell_type": "markdown",
   "id": "f0001eda",
   "metadata": {},
   "source": [
    "## 데이터 뻥튀기"
   ]
  },
  {
   "cell_type": "code",
   "execution_count": 18,
   "id": "add88b5d",
   "metadata": {
    "collapsed": true
   },
   "outputs": [
    {
     "name": "stderr",
     "output_type": "stream",
     "text": [
      "(0.016) INSERT INTO \"mall_shop\" (\"name\", \"description\", \"telephone\", \"photo\", \"cerated_at\", \"updated_at\") VALUES ('가계명#1', '', '042-1234-9001', '', '2021-12-01 06:45:36.744416', '2021-12-01 06:45:36.744416'); args=['가계명#1', '', '042-1234-9001', '', '2021-12-01 06:45:36.744416', '2021-12-01 06:45:36.744416']\n",
      "(0.015) INSERT INTO \"mall_shop\" (\"name\", \"description\", \"telephone\", \"photo\", \"cerated_at\", \"updated_at\") VALUES ('가계명#2', '', '042-1234-9002', '', '2021-12-01 06:45:36.764367', '2021-12-01 06:45:36.764367'); args=['가계명#2', '', '042-1234-9002', '', '2021-12-01 06:45:36.764367', '2021-12-01 06:45:36.764367']\n",
      "(0.000) INSERT INTO \"mall_shop\" (\"name\", \"description\", \"telephone\", \"photo\", \"cerated_at\", \"updated_at\") VALUES ('가계명#3', '', '042-1234-9003', '', '2021-12-01 06:45:36.773383', '2021-12-01 06:45:36.773383'); args=['가계명#3', '', '042-1234-9003', '', '2021-12-01 06:45:36.773383', '2021-12-01 06:45:36.773383']\n",
      "(0.016) INSERT INTO \"mall_shop\" (\"name\", \"description\", \"telephone\", \"photo\", \"cerated_at\", \"updated_at\") VALUES ('가계명#4', '', '042-1234-9004', '', '2021-12-01 06:45:36.779464', '2021-12-01 06:45:36.780466'); args=['가계명#4', '', '042-1234-9004', '', '2021-12-01 06:45:36.779464', '2021-12-01 06:45:36.780466']\n",
      "(0.000) INSERT INTO \"mall_shop\" (\"name\", \"description\", \"telephone\", \"photo\", \"cerated_at\", \"updated_at\") VALUES ('가계명#5', '', '042-1234-9005', '', '2021-12-01 06:45:36.787349', '2021-12-01 06:45:36.787349'); args=['가계명#5', '', '042-1234-9005', '', '2021-12-01 06:45:36.787349', '2021-12-01 06:45:36.787349']\n",
      "(0.000) INSERT INTO \"mall_shop\" (\"name\", \"description\", \"telephone\", \"photo\", \"cerated_at\", \"updated_at\") VALUES ('가계명#6', '', '042-1234-9006', '', '2021-12-01 06:45:36.793359', '2021-12-01 06:45:36.793359'); args=['가계명#6', '', '042-1234-9006', '', '2021-12-01 06:45:36.793359', '2021-12-01 06:45:36.793359']\n",
      "(0.015) INSERT INTO \"mall_shop\" (\"name\", \"description\", \"telephone\", \"photo\", \"cerated_at\", \"updated_at\") VALUES ('가계명#7', '', '042-1234-9007', '', '2021-12-01 06:45:36.798346', '2021-12-01 06:45:36.798346'); args=['가계명#7', '', '042-1234-9007', '', '2021-12-01 06:45:36.798346', '2021-12-01 06:45:36.798346']\n",
      "(0.000) INSERT INTO \"mall_shop\" (\"name\", \"description\", \"telephone\", \"photo\", \"cerated_at\", \"updated_at\") VALUES ('가계명#8', '', '042-1234-9008', '', '2021-12-01 06:45:36.804331', '2021-12-01 06:45:36.804331'); args=['가계명#8', '', '042-1234-9008', '', '2021-12-01 06:45:36.804331', '2021-12-01 06:45:36.804331']\n",
      "(0.016) INSERT INTO \"mall_shop\" (\"name\", \"description\", \"telephone\", \"photo\", \"cerated_at\", \"updated_at\") VALUES ('가계명#9', '', '042-1234-9009', '', '2021-12-01 06:45:36.811311', '2021-12-01 06:45:36.811311'); args=['가계명#9', '', '042-1234-9009', '', '2021-12-01 06:45:36.811311', '2021-12-01 06:45:36.811311']\n",
      "(0.000) INSERT INTO \"mall_shop\" (\"name\", \"description\", \"telephone\", \"photo\", \"cerated_at\", \"updated_at\") VALUES ('가계명#10', '', '042-1234-9010', '', '2021-12-01 06:45:36.817295', '2021-12-01 06:45:36.817295'); args=['가계명#10', '', '042-1234-9010', '', '2021-12-01 06:45:36.817295', '2021-12-01 06:45:36.817295']\n",
      "(0.000) INSERT INTO \"mall_shop\" (\"name\", \"description\", \"telephone\", \"photo\", \"cerated_at\", \"updated_at\") VALUES ('가계명#11', '', '042-1234-9011', '', '2021-12-01 06:45:36.823286', '2021-12-01 06:45:36.823286'); args=['가계명#11', '', '042-1234-9011', '', '2021-12-01 06:45:36.823286', '2021-12-01 06:45:36.823286']\n",
      "(0.016) INSERT INTO \"mall_shop\" (\"name\", \"description\", \"telephone\", \"photo\", \"cerated_at\", \"updated_at\") VALUES ('가계명#12', '', '042-1234-9012', '', '2021-12-01 06:45:36.830261', '2021-12-01 06:45:36.830261'); args=['가계명#12', '', '042-1234-9012', '', '2021-12-01 06:45:36.830261', '2021-12-01 06:45:36.830261']\n",
      "(0.000) INSERT INTO \"mall_shop\" (\"name\", \"description\", \"telephone\", \"photo\", \"cerated_at\", \"updated_at\") VALUES ('가계명#13', '', '042-1234-9013', '', '2021-12-01 06:45:36.837243', '2021-12-01 06:45:36.837243'); args=['가계명#13', '', '042-1234-9013', '', '2021-12-01 06:45:36.837243', '2021-12-01 06:45:36.837243']\n",
      "(0.015) INSERT INTO \"mall_shop\" (\"name\", \"description\", \"telephone\", \"photo\", \"cerated_at\", \"updated_at\") VALUES ('가계명#14', '', '042-1234-9014', '', '2021-12-01 06:45:36.843227', '2021-12-01 06:45:36.843227'); args=['가계명#14', '', '042-1234-9014', '', '2021-12-01 06:45:36.843227', '2021-12-01 06:45:36.843227']\n",
      "(0.000) INSERT INTO \"mall_shop\" (\"name\", \"description\", \"telephone\", \"photo\", \"cerated_at\", \"updated_at\") VALUES ('가계명#15', '', '042-1234-9015', '', '2021-12-01 06:45:36.849210', '2021-12-01 06:45:36.849210'); args=['가계명#15', '', '042-1234-9015', '', '2021-12-01 06:45:36.849210', '2021-12-01 06:45:36.849210']\n",
      "(0.000) INSERT INTO \"mall_shop\" (\"name\", \"description\", \"telephone\", \"photo\", \"cerated_at\", \"updated_at\") VALUES ('가계명#16', '', '042-1234-9016', '', '2021-12-01 06:45:36.855194', '2021-12-01 06:45:36.855194'); args=['가계명#16', '', '042-1234-9016', '', '2021-12-01 06:45:36.855194', '2021-12-01 06:45:36.855194']\n",
      "(0.032) INSERT INTO \"mall_shop\" (\"name\", \"description\", \"telephone\", \"photo\", \"cerated_at\", \"updated_at\") VALUES ('가계명#17', '', '042-1234-9017', '', '2021-12-01 06:45:36.862176', '2021-12-01 06:45:36.862176'); args=['가계명#17', '', '042-1234-9017', '', '2021-12-01 06:45:36.862176', '2021-12-01 06:45:36.862176']\n",
      "(0.000) INSERT INTO \"mall_shop\" (\"name\", \"description\", \"telephone\", \"photo\", \"cerated_at\", \"updated_at\") VALUES ('가계명#18', '', '042-1234-9018', '', '2021-12-01 06:45:36.887197', '2021-12-01 06:45:36.887197'); args=['가계명#18', '', '042-1234-9018', '', '2021-12-01 06:45:36.887197', '2021-12-01 06:45:36.887197']\n",
      "(0.015) INSERT INTO \"mall_shop\" (\"name\", \"description\", \"telephone\", \"photo\", \"cerated_at\", \"updated_at\") VALUES ('가계명#19', '', '042-1234-9019', '', '2021-12-01 06:45:36.893183', '2021-12-01 06:45:36.893183'); args=['가계명#19', '', '042-1234-9019', '', '2021-12-01 06:45:36.893183', '2021-12-01 06:45:36.893183']\n",
      "(0.000) INSERT INTO \"mall_shop\" (\"name\", \"description\", \"telephone\", \"photo\", \"cerated_at\", \"updated_at\") VALUES ('가계명#20', '', '042-1234-9020', '', '2021-12-01 06:45:36.899165', '2021-12-01 06:45:36.899165'); args=['가계명#20', '', '042-1234-9020', '', '2021-12-01 06:45:36.899165', '2021-12-01 06:45:36.899165']\n",
      "(0.016) INSERT INTO \"mall_shop\" (\"name\", \"description\", \"telephone\", \"photo\", \"cerated_at\", \"updated_at\") VALUES ('가계명#21', '', '042-1234-9021', '', '2021-12-01 06:45:36.906147', '2021-12-01 06:45:36.906147'); args=['가계명#21', '', '042-1234-9021', '', '2021-12-01 06:45:36.906147', '2021-12-01 06:45:36.906147']\n",
      "(0.000) INSERT INTO \"mall_shop\" (\"name\", \"description\", \"telephone\", \"photo\", \"cerated_at\", \"updated_at\") VALUES ('가계명#22', '', '042-1234-9022', '', '2021-12-01 06:45:36.913457', '2021-12-01 06:45:36.913457'); args=['가계명#22', '', '042-1234-9022', '', '2021-12-01 06:45:36.913457', '2021-12-01 06:45:36.913457']\n",
      "(0.015) INSERT INTO \"mall_shop\" (\"name\", \"description\", \"telephone\", \"photo\", \"cerated_at\", \"updated_at\") VALUES ('가계명#23', '', '042-1234-9023', '', '2021-12-01 06:45:36.920438', '2021-12-01 06:45:36.920438'); args=['가계명#23', '', '042-1234-9023', '', '2021-12-01 06:45:36.920438', '2021-12-01 06:45:36.920438']\n",
      "(0.000) INSERT INTO \"mall_shop\" (\"name\", \"description\", \"telephone\", \"photo\", \"cerated_at\", \"updated_at\") VALUES ('가계명#24', '', '042-1234-9024', '', '2021-12-01 06:45:36.927419', '2021-12-01 06:45:36.927419'); args=['가계명#24', '', '042-1234-9024', '', '2021-12-01 06:45:36.927419', '2021-12-01 06:45:36.927419']\n",
      "(0.000) INSERT INTO \"mall_shop\" (\"name\", \"description\", \"telephone\", \"photo\", \"cerated_at\", \"updated_at\") VALUES ('가계명#25', '', '042-1234-9025', '', '2021-12-01 06:45:36.933404', '2021-12-01 06:45:36.933404'); args=['가계명#25', '', '042-1234-9025', '', '2021-12-01 06:45:36.933404', '2021-12-01 06:45:36.933404']\n",
      "(0.016) INSERT INTO \"mall_shop\" (\"name\", \"description\", \"telephone\", \"photo\", \"cerated_at\", \"updated_at\") VALUES ('가계명#26', '', '042-1234-9026', '', '2021-12-01 06:45:36.940384', '2021-12-01 06:45:36.940384'); args=['가계명#26', '', '042-1234-9026', '', '2021-12-01 06:45:36.940384', '2021-12-01 06:45:36.940384']\n",
      "(0.016) INSERT INTO \"mall_shop\" (\"name\", \"description\", \"telephone\", \"photo\", \"cerated_at\", \"updated_at\") VALUES ('가계명#27', '', '042-1234-9027', '', '2021-12-01 06:45:36.946370', '2021-12-01 06:45:36.946370'); args=['가계명#27', '', '042-1234-9027', '', '2021-12-01 06:45:36.946370', '2021-12-01 06:45:36.946370']\n"
     ]
    },
    {
     "name": "stderr",
     "output_type": "stream",
     "text": [
      "(0.000) INSERT INTO \"mall_shop\" (\"name\", \"description\", \"telephone\", \"photo\", \"cerated_at\", \"updated_at\") VALUES ('가계명#28', '', '042-1234-9028', '', '2021-12-01 06:45:36.971848', '2021-12-01 06:45:36.971848'); args=['가계명#28', '', '042-1234-9028', '', '2021-12-01 06:45:36.971848', '2021-12-01 06:45:36.971848']\n",
      "(0.000) INSERT INTO \"mall_shop\" (\"name\", \"description\", \"telephone\", \"photo\", \"cerated_at\", \"updated_at\") VALUES ('가계명#29', '', '042-1234-9029', '', '2021-12-01 06:45:36.977832', '2021-12-01 06:45:36.977832'); args=['가계명#29', '', '042-1234-9029', '', '2021-12-01 06:45:36.977832', '2021-12-01 06:45:36.977832']\n",
      "(0.000) INSERT INTO \"mall_shop\" (\"name\", \"description\", \"telephone\", \"photo\", \"cerated_at\", \"updated_at\") VALUES ('가계명#30', '', '042-1234-9030', '', '2021-12-01 06:45:36.987824', '2021-12-01 06:45:36.987824'); args=['가계명#30', '', '042-1234-9030', '', '2021-12-01 06:45:36.987824', '2021-12-01 06:45:36.987824']\n",
      "(0.000) INSERT INTO \"mall_shop\" (\"name\", \"description\", \"telephone\", \"photo\", \"cerated_at\", \"updated_at\") VALUES ('가계명#31', '', '042-1234-9031', '', '2021-12-01 06:45:36.994806', '2021-12-01 06:45:36.994806'); args=['가계명#31', '', '042-1234-9031', '', '2021-12-01 06:45:36.994806', '2021-12-01 06:45:36.994806']\n",
      "(0.031) INSERT INTO \"mall_shop\" (\"name\", \"description\", \"telephone\", \"photo\", \"cerated_at\", \"updated_at\") VALUES ('가계명#32', '', '042-1234-9032', '', '2021-12-01 06:45:36.999791', '2021-12-01 06:45:36.999791'); args=['가계명#32', '', '042-1234-9032', '', '2021-12-01 06:45:36.999791', '2021-12-01 06:45:36.999791']\n",
      "(0.000) INSERT INTO \"mall_shop\" (\"name\", \"description\", \"telephone\", \"photo\", \"cerated_at\", \"updated_at\") VALUES ('가계명#33', '', '042-1234-9033', '', '2021-12-01 06:45:37.022439', '2021-12-01 06:45:37.022439'); args=['가계명#33', '', '042-1234-9033', '', '2021-12-01 06:45:37.022439', '2021-12-01 06:45:37.022439']\n",
      "(0.016) INSERT INTO \"mall_shop\" (\"name\", \"description\", \"telephone\", \"photo\", \"cerated_at\", \"updated_at\") VALUES ('가계명#34', '', '042-1234-9034', '', '2021-12-01 06:45:37.029420', '2021-12-01 06:45:37.029420'); args=['가계명#34', '', '042-1234-9034', '', '2021-12-01 06:45:37.029420', '2021-12-01 06:45:37.029420']\n",
      "(0.000) INSERT INTO \"mall_shop\" (\"name\", \"description\", \"telephone\", \"photo\", \"cerated_at\", \"updated_at\") VALUES ('가계명#35', '', '042-1234-9035', '', '2021-12-01 06:45:37.037400', '2021-12-01 06:45:37.037400'); args=['가계명#35', '', '042-1234-9035', '', '2021-12-01 06:45:37.037400', '2021-12-01 06:45:37.037400']\n",
      "(0.000) INSERT INTO \"mall_shop\" (\"name\", \"description\", \"telephone\", \"photo\", \"cerated_at\", \"updated_at\") VALUES ('가계명#36', '', '042-1234-9036', '', '2021-12-01 06:45:37.043269', '2021-12-01 06:45:37.043269'); args=['가계명#36', '', '042-1234-9036', '', '2021-12-01 06:45:37.043269', '2021-12-01 06:45:37.043269']\n",
      "(0.015) INSERT INTO \"mall_shop\" (\"name\", \"description\", \"telephone\", \"photo\", \"cerated_at\", \"updated_at\") VALUES ('가계명#37', '', '042-1234-9037', '', '2021-12-01 06:45:37.049256', '2021-12-01 06:45:37.049256'); args=['가계명#37', '', '042-1234-9037', '', '2021-12-01 06:45:37.049256', '2021-12-01 06:45:37.049256']\n",
      "(0.000) INSERT INTO \"mall_shop\" (\"name\", \"description\", \"telephone\", \"photo\", \"cerated_at\", \"updated_at\") VALUES ('가계명#38', '', '042-1234-9038', '', '2021-12-01 06:45:37.055240', '2021-12-01 06:45:37.055240'); args=['가계명#38', '', '042-1234-9038', '', '2021-12-01 06:45:37.055240', '2021-12-01 06:45:37.055240']\n",
      "(0.016) INSERT INTO \"mall_shop\" (\"name\", \"description\", \"telephone\", \"photo\", \"cerated_at\", \"updated_at\") VALUES ('가계명#39', '', '042-1234-9039', '', '2021-12-01 06:45:37.061224', '2021-12-01 06:45:37.061224'); args=['가계명#39', '', '042-1234-9039', '', '2021-12-01 06:45:37.061224', '2021-12-01 06:45:37.061224']\n",
      "(0.000) INSERT INTO \"mall_shop\" (\"name\", \"description\", \"telephone\", \"photo\", \"cerated_at\", \"updated_at\") VALUES ('가계명#40', '', '042-1234-9040', '', '2021-12-01 06:45:37.067210', '2021-12-01 06:45:37.067210'); args=['가계명#40', '', '042-1234-9040', '', '2021-12-01 06:45:37.067210', '2021-12-01 06:45:37.067210']\n",
      "(0.016) INSERT INTO \"mall_shop\" (\"name\", \"description\", \"telephone\", \"photo\", \"cerated_at\", \"updated_at\") VALUES ('가계명#41', '', '042-1234-9041', '', '2021-12-01 06:45:37.075190', '2021-12-01 06:45:37.075190'); args=['가계명#41', '', '042-1234-9041', '', '2021-12-01 06:45:37.075190', '2021-12-01 06:45:37.075190']\n",
      "(0.000) INSERT INTO \"mall_shop\" (\"name\", \"description\", \"telephone\", \"photo\", \"cerated_at\", \"updated_at\") VALUES ('가계명#42', '', '042-1234-9042', '', '2021-12-01 06:45:37.085875', '2021-12-01 06:45:37.085875'); args=['가계명#42', '', '042-1234-9042', '', '2021-12-01 06:45:37.085875', '2021-12-01 06:45:37.085875']\n",
      "(0.015) INSERT INTO \"mall_shop\" (\"name\", \"description\", \"telephone\", \"photo\", \"cerated_at\", \"updated_at\") VALUES ('가계명#43', '', '042-1234-9043', '', '2021-12-01 06:45:37.092635', '2021-12-01 06:45:37.092635'); args=['가계명#43', '', '042-1234-9043', '', '2021-12-01 06:45:37.092635', '2021-12-01 06:45:37.092635']\n",
      "(0.000) INSERT INTO \"mall_shop\" (\"name\", \"description\", \"telephone\", \"photo\", \"cerated_at\", \"updated_at\") VALUES ('가계명#44', '', '042-1234-9044', '', '2021-12-01 06:45:37.098488', '2021-12-01 06:45:37.098488'); args=['가계명#44', '', '042-1234-9044', '', '2021-12-01 06:45:37.098488', '2021-12-01 06:45:37.098488']\n",
      "(0.000) INSERT INTO \"mall_shop\" (\"name\", \"description\", \"telephone\", \"photo\", \"cerated_at\", \"updated_at\") VALUES ('가계명#45', '', '042-1234-9045', '', '2021-12-01 06:45:37.104471', '2021-12-01 06:45:37.104471'); args=['가계명#45', '', '042-1234-9045', '', '2021-12-01 06:45:37.104471', '2021-12-01 06:45:37.104471']\n",
      "(0.016) INSERT INTO \"mall_shop\" (\"name\", \"description\", \"telephone\", \"photo\", \"cerated_at\", \"updated_at\") VALUES ('가계명#46', '', '042-1234-9046', '', '2021-12-01 06:45:37.110945', '2021-12-01 06:45:37.110945'); args=['가계명#46', '', '042-1234-9046', '', '2021-12-01 06:45:37.110945', '2021-12-01 06:45:37.110945']\n",
      "(0.000) INSERT INTO \"mall_shop\" (\"name\", \"description\", \"telephone\", \"photo\", \"cerated_at\", \"updated_at\") VALUES ('가계명#47', '', '042-1234-9047', '', '2021-12-01 06:45:37.116929', '2021-12-01 06:45:37.116929'); args=['가계명#47', '', '042-1234-9047', '', '2021-12-01 06:45:37.116929', '2021-12-01 06:45:37.116929']\n",
      "(0.016) INSERT INTO \"mall_shop\" (\"name\", \"description\", \"telephone\", \"photo\", \"cerated_at\", \"updated_at\") VALUES ('가계명#48', '', '042-1234-9048', '', '2021-12-01 06:45:37.123910', '2021-12-01 06:45:37.123910'); args=['가계명#48', '', '042-1234-9048', '', '2021-12-01 06:45:37.123910', '2021-12-01 06:45:37.123910']\n",
      "(0.000) INSERT INTO \"mall_shop\" (\"name\", \"description\", \"telephone\", \"photo\", \"cerated_at\", \"updated_at\") VALUES ('가계명#49', '', '042-1234-9049', '', '2021-12-01 06:45:37.129404', '2021-12-01 06:45:37.129404'); args=['가계명#49', '', '042-1234-9049', '', '2021-12-01 06:45:37.129404', '2021-12-01 06:45:37.129404']\n",
      "(0.000) INSERT INTO \"mall_shop\" (\"name\", \"description\", \"telephone\", \"photo\", \"cerated_at\", \"updated_at\") VALUES ('가계명#50', '', '042-1234-9050', '', '2021-12-01 06:45:37.135390', '2021-12-01 06:45:37.135390'); args=['가계명#50', '', '042-1234-9050', '', '2021-12-01 06:45:37.135390', '2021-12-01 06:45:37.135390']\n",
      "(0.046) INSERT INTO \"mall_shop\" (\"name\", \"description\", \"telephone\", \"photo\", \"cerated_at\", \"updated_at\") VALUES ('가계명#51', '', '042-1234-9051', '', '2021-12-01 06:45:37.141373', '2021-12-01 06:45:37.141373'); args=['가계명#51', '', '042-1234-9051', '', '2021-12-01 06:45:37.141373', '2021-12-01 06:45:37.141373']\n",
      "(0.000) INSERT INTO \"mall_shop\" (\"name\", \"description\", \"telephone\", \"photo\", \"cerated_at\", \"updated_at\") VALUES ('가계명#52', '', '042-1234-9052', '', '2021-12-01 06:45:37.179963', '2021-12-01 06:45:37.179963'); args=['가계명#52', '', '042-1234-9052', '', '2021-12-01 06:45:37.179963', '2021-12-01 06:45:37.179963']\n",
      "(0.016) INSERT INTO \"mall_shop\" (\"name\", \"description\", \"telephone\", \"photo\", \"cerated_at\", \"updated_at\") VALUES ('가계명#53', '', '042-1234-9053', '', '2021-12-01 06:45:37.189509', '2021-12-01 06:45:37.189509'); args=['가계명#53', '', '042-1234-9053', '', '2021-12-01 06:45:37.189509', '2021-12-01 06:45:37.189509']\n",
      "(0.000) INSERT INTO \"mall_shop\" (\"name\", \"description\", \"telephone\", \"photo\", \"cerated_at\", \"updated_at\") VALUES ('가계명#54', '', '042-1234-9054', '', '2021-12-01 06:45:37.199402', '2021-12-01 06:45:37.199402'); args=['가계명#54', '', '042-1234-9054', '', '2021-12-01 06:45:37.199402', '2021-12-01 06:45:37.199402']\n"
     ]
    },
    {
     "name": "stderr",
     "output_type": "stream",
     "text": [
      "(0.016) INSERT INTO \"mall_shop\" (\"name\", \"description\", \"telephone\", \"photo\", \"cerated_at\", \"updated_at\") VALUES ('가계명#55', '', '042-1234-9055', '', '2021-12-01 06:45:37.205386', '2021-12-01 06:45:37.205386'); args=['가계명#55', '', '042-1234-9055', '', '2021-12-01 06:45:37.205386', '2021-12-01 06:45:37.205386']\n",
      "(0.000) INSERT INTO \"mall_shop\" (\"name\", \"description\", \"telephone\", \"photo\", \"cerated_at\", \"updated_at\") VALUES ('가계명#56', '', '042-1234-9056', '', '2021-12-01 06:45:37.212630', '2021-12-01 06:45:37.212630'); args=['가계명#56', '', '042-1234-9056', '', '2021-12-01 06:45:37.212630', '2021-12-01 06:45:37.212630']\n",
      "(0.015) INSERT INTO \"mall_shop\" (\"name\", \"description\", \"telephone\", \"photo\", \"cerated_at\", \"updated_at\") VALUES ('가계명#57', '', '042-1234-9057', '', '2021-12-01 06:45:37.218615', '2021-12-01 06:45:37.219612'); args=['가계명#57', '', '042-1234-9057', '', '2021-12-01 06:45:37.218615', '2021-12-01 06:45:37.219612']\n",
      "(0.000) INSERT INTO \"mall_shop\" (\"name\", \"description\", \"telephone\", \"photo\", \"cerated_at\", \"updated_at\") VALUES ('가계명#58', '', '042-1234-9058', '', '2021-12-01 06:45:37.224597', '2021-12-01 06:45:37.224597'); args=['가계명#58', '', '042-1234-9058', '', '2021-12-01 06:45:37.224597', '2021-12-01 06:45:37.224597']\n",
      "(0.000) INSERT INTO \"mall_shop\" (\"name\", \"description\", \"telephone\", \"photo\", \"cerated_at\", \"updated_at\") VALUES ('가계명#59', '', '042-1234-9059', '', '2021-12-01 06:45:37.230581', '2021-12-01 06:45:37.230581'); args=['가계명#59', '', '042-1234-9059', '', '2021-12-01 06:45:37.230581', '2021-12-01 06:45:37.230581']\n",
      "(0.000) INSERT INTO \"mall_shop\" (\"name\", \"description\", \"telephone\", \"photo\", \"cerated_at\", \"updated_at\") VALUES ('가계명#60', '', '042-1234-9060', '', '2021-12-01 06:45:37.237565', '2021-12-01 06:45:37.237565'); args=['가계명#60', '', '042-1234-9060', '', '2021-12-01 06:45:37.237565', '2021-12-01 06:45:37.237565']\n",
      "(0.000) INSERT INTO \"mall_shop\" (\"name\", \"description\", \"telephone\", \"photo\", \"cerated_at\", \"updated_at\") VALUES ('가계명#61', '', '042-1234-9061', '', '2021-12-01 06:45:37.243533', '2021-12-01 06:45:37.243533'); args=['가계명#61', '', '042-1234-9061', '', '2021-12-01 06:45:37.243533', '2021-12-01 06:45:37.243533']\n",
      "(0.016) INSERT INTO \"mall_shop\" (\"name\", \"description\", \"telephone\", \"photo\", \"cerated_at\", \"updated_at\") VALUES ('가계명#62', '', '042-1234-9062', '', '2021-12-01 06:45:37.249167', '2021-12-01 06:45:37.249167'); args=['가계명#62', '', '042-1234-9062', '', '2021-12-01 06:45:37.249167', '2021-12-01 06:45:37.249167']\n",
      "(0.000) INSERT INTO \"mall_shop\" (\"name\", \"description\", \"telephone\", \"photo\", \"cerated_at\", \"updated_at\") VALUES ('가계명#63', '', '042-1234-9063', '', '2021-12-01 06:45:37.255151', '2021-12-01 06:45:37.255151'); args=['가계명#63', '', '042-1234-9063', '', '2021-12-01 06:45:37.255151', '2021-12-01 06:45:37.255151']\n",
      "(0.000) INSERT INTO \"mall_shop\" (\"name\", \"description\", \"telephone\", \"photo\", \"cerated_at\", \"updated_at\") VALUES ('가계명#64', '', '042-1234-9064', '', '2021-12-01 06:45:37.261425', '2021-12-01 06:45:37.261425'); args=['가계명#64', '', '042-1234-9064', '', '2021-12-01 06:45:37.261425', '2021-12-01 06:45:37.261425']\n",
      "(0.015) INSERT INTO \"mall_shop\" (\"name\", \"description\", \"telephone\", \"photo\", \"cerated_at\", \"updated_at\") VALUES ('가계명#65', '', '042-1234-9065', '', '2021-12-01 06:45:37.268407', '2021-12-01 06:45:37.268407'); args=['가계명#65', '', '042-1234-9065', '', '2021-12-01 06:45:37.268407', '2021-12-01 06:45:37.268407']\n",
      "(0.000) INSERT INTO \"mall_shop\" (\"name\", \"description\", \"telephone\", \"photo\", \"cerated_at\", \"updated_at\") VALUES ('가계명#66', '', '042-1234-9066', '', '2021-12-01 06:45:37.274390', '2021-12-01 06:45:37.274390'); args=['가계명#66', '', '042-1234-9066', '', '2021-12-01 06:45:37.274390', '2021-12-01 06:45:37.274390']\n",
      "(0.016) INSERT INTO \"mall_shop\" (\"name\", \"description\", \"telephone\", \"photo\", \"cerated_at\", \"updated_at\") VALUES ('가계명#67', '', '042-1234-9067', '', '2021-12-01 06:45:37.281013', '2021-12-01 06:45:37.281013'); args=['가계명#67', '', '042-1234-9067', '', '2021-12-01 06:45:37.281013', '2021-12-01 06:45:37.281013']\n",
      "(0.000) INSERT INTO \"mall_shop\" (\"name\", \"description\", \"telephone\", \"photo\", \"cerated_at\", \"updated_at\") VALUES ('가계명#68', '', '042-1234-9068', '', '2021-12-01 06:45:37.286997', '2021-12-01 06:45:37.286997'); args=['가계명#68', '', '042-1234-9068', '', '2021-12-01 06:45:37.286997', '2021-12-01 06:45:37.286997']\n",
      "(0.000) INSERT INTO \"mall_shop\" (\"name\", \"description\", \"telephone\", \"photo\", \"cerated_at\", \"updated_at\") VALUES ('가계명#69', '', '042-1234-9069', '', '2021-12-01 06:45:37.292981', '2021-12-01 06:45:37.292981'); args=['가계명#69', '', '042-1234-9069', '', '2021-12-01 06:45:37.292981', '2021-12-01 06:45:37.292981']\n",
      "(0.015) INSERT INTO \"mall_shop\" (\"name\", \"description\", \"telephone\", \"photo\", \"cerated_at\", \"updated_at\") VALUES ('가계명#70', '', '042-1234-9070', '', '2021-12-01 06:45:37.298964', '2021-12-01 06:45:37.298964'); args=['가계명#70', '', '042-1234-9070', '', '2021-12-01 06:45:37.298964', '2021-12-01 06:45:37.298964']\n",
      "(0.000) INSERT INTO \"mall_shop\" (\"name\", \"description\", \"telephone\", \"photo\", \"cerated_at\", \"updated_at\") VALUES ('가계명#71', '', '042-1234-9071', '', '2021-12-01 06:45:37.304949', '2021-12-01 06:45:37.304949'); args=['가계명#71', '', '042-1234-9071', '', '2021-12-01 06:45:37.304949', '2021-12-01 06:45:37.304949']\n",
      "(0.016) INSERT INTO \"mall_shop\" (\"name\", \"description\", \"telephone\", \"photo\", \"cerated_at\", \"updated_at\") VALUES ('가계명#72', '', '042-1234-9072', '', '2021-12-01 06:45:37.311419', '2021-12-01 06:45:37.311419'); args=['가계명#72', '', '042-1234-9072', '', '2021-12-01 06:45:37.311419', '2021-12-01 06:45:37.311419']\n",
      "(0.000) INSERT INTO \"mall_shop\" (\"name\", \"description\", \"telephone\", \"photo\", \"cerated_at\", \"updated_at\") VALUES ('가계명#73', '', '042-1234-9073', '', '2021-12-01 06:45:37.317403', '2021-12-01 06:45:37.317403'); args=['가계명#73', '', '042-1234-9073', '', '2021-12-01 06:45:37.317403', '2021-12-01 06:45:37.317403']\n",
      "(0.016) INSERT INTO \"mall_shop\" (\"name\", \"description\", \"telephone\", \"photo\", \"cerated_at\", \"updated_at\") VALUES ('가계명#74', '', '042-1234-9074', '', '2021-12-01 06:45:37.324384', '2021-12-01 06:45:37.324384'); args=['가계명#74', '', '042-1234-9074', '', '2021-12-01 06:45:37.324384', '2021-12-01 06:45:37.324384']\n",
      "(0.000) INSERT INTO \"mall_shop\" (\"name\", \"description\", \"telephone\", \"photo\", \"cerated_at\", \"updated_at\") VALUES ('가계명#75', '', '042-1234-9075', '', '2021-12-01 06:45:37.336487', '2021-12-01 06:45:37.336487'); args=['가계명#75', '', '042-1234-9075', '', '2021-12-01 06:45:37.336487', '2021-12-01 06:45:37.336487']\n",
      "(0.015) INSERT INTO \"mall_shop\" (\"name\", \"description\", \"telephone\", \"photo\", \"cerated_at\", \"updated_at\") VALUES ('가계명#76', '', '042-1234-9076', '', '2021-12-01 06:45:37.344953', '2021-12-01 06:45:37.344953'); args=['가계명#76', '', '042-1234-9076', '', '2021-12-01 06:45:37.344953', '2021-12-01 06:45:37.344953']\n",
      "(0.016) INSERT INTO \"mall_shop\" (\"name\", \"description\", \"telephone\", \"photo\", \"cerated_at\", \"updated_at\") VALUES ('가계명#77', '', '042-1234-9077', '', '2021-12-01 06:45:37.359917', '2021-12-01 06:45:37.359917'); args=['가계명#77', '', '042-1234-9077', '', '2021-12-01 06:45:37.359917', '2021-12-01 06:45:37.359917']\n",
      "(0.016) INSERT INTO \"mall_shop\" (\"name\", \"description\", \"telephone\", \"photo\", \"cerated_at\", \"updated_at\") VALUES ('가계명#78', '', '042-1234-9078', '', '2021-12-01 06:45:37.369890', '2021-12-01 06:45:37.369890'); args=['가계명#78', '', '042-1234-9078', '', '2021-12-01 06:45:37.369890', '2021-12-01 06:45:37.369890']\n",
      "(0.000) INSERT INTO \"mall_shop\" (\"name\", \"description\", \"telephone\", \"photo\", \"cerated_at\", \"updated_at\") VALUES ('가계명#79', '', '042-1234-9079', '', '2021-12-01 06:45:37.380861', '2021-12-01 06:45:37.380861'); args=['가계명#79', '', '042-1234-9079', '', '2021-12-01 06:45:37.380861', '2021-12-01 06:45:37.380861']\n",
      "(0.000) INSERT INTO \"mall_shop\" (\"name\", \"description\", \"telephone\", \"photo\", \"cerated_at\", \"updated_at\") VALUES ('가계명#80', '', '042-1234-9080', '', '2021-12-01 06:45:37.386846', '2021-12-01 06:45:37.386846'); args=['가계명#80', '', '042-1234-9080', '', '2021-12-01 06:45:37.386846', '2021-12-01 06:45:37.386846']\n",
      "(0.015) INSERT INTO \"mall_shop\" (\"name\", \"description\", \"telephone\", \"photo\", \"cerated_at\", \"updated_at\") VALUES ('가계명#81', '', '042-1234-9081', '', '2021-12-01 06:45:37.392829', '2021-12-01 06:45:37.392829'); args=['가계명#81', '', '042-1234-9081', '', '2021-12-01 06:45:37.392829', '2021-12-01 06:45:37.392829']\n"
     ]
    },
    {
     "name": "stderr",
     "output_type": "stream",
     "text": [
      "(0.000) INSERT INTO \"mall_shop\" (\"name\", \"description\", \"telephone\", \"photo\", \"cerated_at\", \"updated_at\") VALUES ('가계명#82', '', '042-1234-9082', '', '2021-12-01 06:45:37.399078', '2021-12-01 06:45:37.399078'); args=['가계명#82', '', '042-1234-9082', '', '2021-12-01 06:45:37.399078', '2021-12-01 06:45:37.399078']\n",
      "(0.016) INSERT INTO \"mall_shop\" (\"name\", \"description\", \"telephone\", \"photo\", \"cerated_at\", \"updated_at\") VALUES ('가계명#83', '', '042-1234-9083', '', '2021-12-01 06:45:37.406062', '2021-12-01 06:45:37.406062'); args=['가계명#83', '', '042-1234-9083', '', '2021-12-01 06:45:37.406062', '2021-12-01 06:45:37.406062']\n",
      "(0.000) INSERT INTO \"mall_shop\" (\"name\", \"description\", \"telephone\", \"photo\", \"cerated_at\", \"updated_at\") VALUES ('가계명#84', '', '042-1234-9084', '', '2021-12-01 06:45:37.413040', '2021-12-01 06:45:37.413040'); args=['가계명#84', '', '042-1234-9084', '', '2021-12-01 06:45:37.413040', '2021-12-01 06:45:37.413040']\n",
      "(0.000) INSERT INTO \"mall_shop\" (\"name\", \"description\", \"telephone\", \"photo\", \"cerated_at\", \"updated_at\") VALUES ('가계명#85', '', '042-1234-9085', '', '2021-12-01 06:45:37.420024', '2021-12-01 06:45:37.420024'); args=['가계명#85', '', '042-1234-9085', '', '2021-12-01 06:45:37.420024', '2021-12-01 06:45:37.420024']\n",
      "(0.000) INSERT INTO \"mall_shop\" (\"name\", \"description\", \"telephone\", \"photo\", \"cerated_at\", \"updated_at\") VALUES ('가계명#86', '', '042-1234-9086', '', '2021-12-01 06:45:37.425767', '2021-12-01 06:45:37.425767'); args=['가계명#86', '', '042-1234-9086', '', '2021-12-01 06:45:37.425767', '2021-12-01 06:45:37.425767']\n",
      "(0.000) INSERT INTO \"mall_shop\" (\"name\", \"description\", \"telephone\", \"photo\", \"cerated_at\", \"updated_at\") VALUES ('가계명#87', '', '042-1234-9087', '', '2021-12-01 06:45:37.431872', '2021-12-01 06:45:37.431872'); args=['가계명#87', '', '042-1234-9087', '', '2021-12-01 06:45:37.431872', '2021-12-01 06:45:37.431872']\n",
      "(0.016) INSERT INTO \"mall_shop\" (\"name\", \"description\", \"telephone\", \"photo\", \"cerated_at\", \"updated_at\") VALUES ('가계명#88', '', '042-1234-9088', '', '2021-12-01 06:45:37.437858', '2021-12-01 06:45:37.437858'); args=['가계명#88', '', '042-1234-9088', '', '2021-12-01 06:45:37.437858', '2021-12-01 06:45:37.437858']\n",
      "(0.000) INSERT INTO \"mall_shop\" (\"name\", \"description\", \"telephone\", \"photo\", \"cerated_at\", \"updated_at\") VALUES ('가계명#89', '', '042-1234-9089', '', '2021-12-01 06:45:37.444364', '2021-12-01 06:45:37.444364'); args=['가계명#89', '', '042-1234-9089', '', '2021-12-01 06:45:37.444364', '2021-12-01 06:45:37.444364']\n",
      "(0.000) INSERT INTO \"mall_shop\" (\"name\", \"description\", \"telephone\", \"photo\", \"cerated_at\", \"updated_at\") VALUES ('가계명#90', '', '042-1234-9090', '', '2021-12-01 06:45:37.449927', '2021-12-01 06:45:37.449927'); args=['가계명#90', '', '042-1234-9090', '', '2021-12-01 06:45:37.449927', '2021-12-01 06:45:37.449927']\n",
      "(0.000) INSERT INTO \"mall_shop\" (\"name\", \"description\", \"telephone\", \"photo\", \"cerated_at\", \"updated_at\") VALUES ('가계명#91', '', '042-1234-9091', '', '2021-12-01 06:45:37.456912', '2021-12-01 06:45:37.456912'); args=['가계명#91', '', '042-1234-9091', '', '2021-12-01 06:45:37.456912', '2021-12-01 06:45:37.456912']\n",
      "(0.000) INSERT INTO \"mall_shop\" (\"name\", \"description\", \"telephone\", \"photo\", \"cerated_at\", \"updated_at\") VALUES ('가계명#92', '', '042-1234-9092', '', '2021-12-01 06:45:37.462896', '2021-12-01 06:45:37.462896'); args=['가계명#92', '', '042-1234-9092', '', '2021-12-01 06:45:37.462896', '2021-12-01 06:45:37.462896']\n",
      "(0.015) INSERT INTO \"mall_shop\" (\"name\", \"description\", \"telephone\", \"photo\", \"cerated_at\", \"updated_at\") VALUES ('가계명#93', '', '042-1234-9093', '', '2021-12-01 06:45:37.468894', '2021-12-01 06:45:37.468894'); args=['가계명#93', '', '042-1234-9093', '', '2021-12-01 06:45:37.468894', '2021-12-01 06:45:37.468894']\n",
      "(0.000) INSERT INTO \"mall_shop\" (\"name\", \"description\", \"telephone\", \"photo\", \"cerated_at\", \"updated_at\") VALUES ('가계명#94', '', '042-1234-9094', '', '2021-12-01 06:45:37.474884', '2021-12-01 06:45:37.474884'); args=['가계명#94', '', '042-1234-9094', '', '2021-12-01 06:45:37.474884', '2021-12-01 06:45:37.474884']\n",
      "(0.016) INSERT INTO \"mall_shop\" (\"name\", \"description\", \"telephone\", \"photo\", \"cerated_at\", \"updated_at\") VALUES ('가계명#95', '', '042-1234-9095', '', '2021-12-01 06:45:37.484859', '2021-12-01 06:45:37.484859'); args=['가계명#95', '', '042-1234-9095', '', '2021-12-01 06:45:37.484859', '2021-12-01 06:45:37.484859']\n",
      "(0.000) INSERT INTO \"mall_shop\" (\"name\", \"description\", \"telephone\", \"photo\", \"cerated_at\", \"updated_at\") VALUES ('가계명#96', '', '042-1234-9096', '', '2021-12-01 06:45:37.491839', '2021-12-01 06:45:37.491839'); args=['가계명#96', '', '042-1234-9096', '', '2021-12-01 06:45:37.491839', '2021-12-01 06:45:37.491839']\n",
      "(0.016) INSERT INTO \"mall_shop\" (\"name\", \"description\", \"telephone\", \"photo\", \"cerated_at\", \"updated_at\") VALUES ('가계명#97', '', '042-1234-9097', '', '2021-12-01 06:45:37.496826', '2021-12-01 06:45:37.496826'); args=['가계명#97', '', '042-1234-9097', '', '2021-12-01 06:45:37.496826', '2021-12-01 06:45:37.496826']\n",
      "(0.000) INSERT INTO \"mall_shop\" (\"name\", \"description\", \"telephone\", \"photo\", \"cerated_at\", \"updated_at\") VALUES ('가계명#98', '', '042-1234-9098', '', '2021-12-01 06:45:37.504806', '2021-12-01 06:45:37.504806'); args=['가계명#98', '', '042-1234-9098', '', '2021-12-01 06:45:37.504806', '2021-12-01 06:45:37.504806']\n",
      "(0.015) INSERT INTO \"mall_shop\" (\"name\", \"description\", \"telephone\", \"photo\", \"cerated_at\", \"updated_at\") VALUES ('가계명#99', '', '042-1234-9099', '', '2021-12-01 06:45:37.513990', '2021-12-01 06:45:37.513990'); args=['가계명#99', '', '042-1234-9099', '', '2021-12-01 06:45:37.513990', '2021-12-01 06:45:37.513990']\n",
      "(0.000) INSERT INTO \"mall_shop\" (\"name\", \"description\", \"telephone\", \"photo\", \"cerated_at\", \"updated_at\") VALUES ('가계명#100', '', '042-1234-9100', '', '2021-12-01 06:45:37.524064', '2021-12-01 06:45:37.524064'); args=['가계명#100', '', '042-1234-9100', '', '2021-12-01 06:45:37.524064', '2021-12-01 06:45:37.524064']\n"
     ]
    }
   ],
   "source": [
    "for i in range(1,101):\n",
    "    name = f\"가계명#{i}\"\n",
    "    telephone=f\"042-1234-9{i:03}\"\n",
    "#     print(name, telephone)\n",
    "    # 빈자리를 0으로 채우고 싶어서 03\n",
    "    Shop.objects.create(\n",
    "    name=name,\n",
    "    telephone=telephone,\n",
    ")"
   ]
  },
  {
   "cell_type": "code",
   "execution_count": null,
   "id": "88a3766e",
   "metadata": {},
   "outputs": [],
   "source": []
  },
  {
   "cell_type": "markdown",
   "id": "b26a30cc",
   "metadata": {},
   "source": [
    "# Slicing"
   ]
  },
  {
   "cell_type": "code",
   "execution_count": 19,
   "id": "06f7380c",
   "metadata": {},
   "outputs": [],
   "source": [
    "qs = Shop.objects.all()"
   ]
  },
  {
   "cell_type": "code",
   "execution_count": 20,
   "id": "5fbfbba4",
   "metadata": {
    "collapsed": true
   },
   "outputs": [
    {
     "name": "stderr",
     "output_type": "stream",
     "text": [
      "(0.000) SELECT \"mall_shop\".\"id\", \"mall_shop\".\"name\", \"mall_shop\".\"description\", \"mall_shop\".\"telephone\", \"mall_shop\".\"photo\", \"mall_shop\".\"cerated_at\", \"mall_shop\".\"updated_at\" FROM \"mall_shop\" ORDER BY \"mall_shop\".\"id\" DESC LIMIT 10; args=()\n"
     ]
    },
    {
     "data": {
      "text/plain": [
       "<QuerySet [<Shop: Shop object (106)>, <Shop: Shop object (105)>, <Shop: Shop object (104)>, <Shop: Shop object (103)>, <Shop: Shop object (102)>, <Shop: Shop object (101)>, <Shop: Shop object (100)>, <Shop: Shop object (99)>, <Shop: Shop object (98)>, <Shop: Shop object (97)>]>"
      ]
     },
     "execution_count": 20,
     "metadata": {},
     "output_type": "execute_result"
    }
   ],
   "source": [
    "qs[:10]"
   ]
  },
  {
   "cell_type": "code",
   "execution_count": 21,
   "id": "e1b6d90e",
   "metadata": {
    "collapsed": true
   },
   "outputs": [
    {
     "name": "stderr",
     "output_type": "stream",
     "text": [
      "(0.000) SELECT \"mall_shop\".\"id\", \"mall_shop\".\"name\", \"mall_shop\".\"description\", \"mall_shop\".\"telephone\", \"mall_shop\".\"photo\", \"mall_shop\".\"cerated_at\", \"mall_shop\".\"updated_at\" FROM \"mall_shop\" ORDER BY \"mall_shop\".\"id\" DESC LIMIT 10; args=()\n"
     ]
    },
    {
     "data": {
      "text/plain": [
       "[<Shop: Shop object (106)>,\n",
       " <Shop: Shop object (104)>,\n",
       " <Shop: Shop object (102)>,\n",
       " <Shop: Shop object (100)>,\n",
       " <Shop: Shop object (98)>]"
      ]
     },
     "execution_count": 21,
     "metadata": {},
     "output_type": "execute_result"
    }
   ],
   "source": [
    "qs[0:10:2]\n",
    "#0번이상 10번 미만 2개씩 건너뜀.\n",
    "#step은 파이썬에서 지원하는 기능이지 DB에서는 지원하지 않아 DB에서는 10개를 가져오고, 반환만 5개를 보여줌."
   ]
  },
  {
   "cell_type": "code",
   "execution_count": null,
   "id": "2109b7f6",
   "metadata": {},
   "outputs": [],
   "source": []
  },
  {
   "cell_type": "markdown",
   "id": "999dbf83",
   "metadata": {},
   "source": [
    "# Conditions"
   ]
  },
  {
   "cell_type": "code",
   "execution_count": 37,
   "id": "3b0c982c",
   "metadata": {},
   "outputs": [],
   "source": [
    "qs = Shop.objects.all()"
   ]
  },
  {
   "cell_type": "code",
   "execution_count": 38,
   "id": "f1ab6301",
   "metadata": {
    "collapsed": true
   },
   "outputs": [
    {
     "name": "stderr",
     "output_type": "stream",
     "text": [
      "(0.000) SELECT \"mall_shop\".\"id\", \"mall_shop\".\"name\", \"mall_shop\".\"description\", \"mall_shop\".\"telephone\", \"mall_shop\".\"photo\", \"mall_shop\".\"cerated_at\", \"mall_shop\".\"updated_at\" FROM \"mall_shop\" WHERE \"mall_shop\".\"id\" = 1 ORDER BY \"mall_shop\".\"id\" DESC LIMIT 21; args=(1,)\n"
     ]
    },
    {
     "data": {
      "text/plain": [
       "<QuerySet []>"
      ]
     },
     "execution_count": 38,
     "metadata": {},
     "output_type": "execute_result"
    }
   ],
   "source": [
    "# filter <-> exclude\n",
    "\n",
    "qs.filter(pk=1)"
   ]
  },
  {
   "cell_type": "code",
   "execution_count": 39,
   "id": "6d596e37",
   "metadata": {
    "collapsed": true
   },
   "outputs": [
    {
     "name": "stderr",
     "output_type": "stream",
     "text": [
      "(0.000) SELECT \"mall_shop\".\"id\", \"mall_shop\".\"name\", \"mall_shop\".\"description\", \"mall_shop\".\"telephone\", \"mall_shop\".\"photo\", \"mall_shop\".\"cerated_at\", \"mall_shop\".\"updated_at\" FROM \"mall_shop\" WHERE NOT (\"mall_shop\".\"id\" = 1) ORDER BY \"mall_shop\".\"id\" DESC LIMIT 21; args=(1,)\n"
     ]
    },
    {
     "data": {
      "text/plain": [
       "<QuerySet [<Shop: Shop object (106)>, <Shop: Shop object (105)>, <Shop: Shop object (104)>, <Shop: Shop object (103)>, <Shop: Shop object (102)>, <Shop: Shop object (101)>, <Shop: Shop object (100)>, <Shop: Shop object (99)>, <Shop: Shop object (98)>, <Shop: Shop object (97)>, <Shop: Shop object (96)>, <Shop: Shop object (95)>, <Shop: Shop object (94)>, <Shop: Shop object (93)>, <Shop: Shop object (92)>, <Shop: Shop object (91)>, <Shop: Shop object (90)>, <Shop: Shop object (89)>, <Shop: Shop object (88)>, <Shop: Shop object (87)>, '...(remaining elements truncated)...']>"
      ]
     },
     "execution_count": 39,
     "metadata": {},
     "output_type": "execute_result"
    }
   ],
   "source": [
    "qs.exclude(pk=1)"
   ]
  },
  {
   "cell_type": "code",
   "execution_count": 41,
   "id": "0c8a5327",
   "metadata": {},
   "outputs": [
    {
     "name": "stderr",
     "output_type": "stream",
     "text": [
      "(0.000) SELECT \"mall_shop\".\"id\", \"mall_shop\".\"name\", \"mall_shop\".\"description\", \"mall_shop\".\"telephone\", \"mall_shop\".\"photo\", \"mall_shop\".\"cerated_at\", \"mall_shop\".\"updated_at\" FROM \"mall_shop\" WHERE (\"mall_shop\".\"id\" >= 5 AND \"mall_shop\".\"id\" < 10) ORDER BY \"mall_shop\".\"id\" DESC LIMIT 21; args=(5, 10)\n"
     ]
    },
    {
     "data": {
      "text/plain": [
       "<QuerySet [<Shop: Shop object (9)>, <Shop: Shop object (8)>, <Shop: Shop object (7)>, <Shop: Shop object (6)>, <Shop: Shop object (5)>]>"
      ]
     },
     "execution_count": 41,
     "metadata": {},
     "output_type": "execute_result"
    }
   ],
   "source": [
    "# lt : less than <\n",
    "# lte : less than equal <=\n",
    "# gt : greater than >\n",
    "# gte : greater than equal >=\n",
    "qs.filter(\n",
    "    pk__gte=5,\n",
    "    pk__lt=10, # less than\n",
    ")"
   ]
  },
  {
   "cell_type": "code",
   "execution_count": 43,
   "id": "7d3139f7",
   "metadata": {},
   "outputs": [
    {
     "name": "stderr",
     "output_type": "stream",
     "text": [
      "(0.000) SELECT \"mall_shop\".\"id\", \"mall_shop\".\"name\", \"mall_shop\".\"description\", \"mall_shop\".\"telephone\", \"mall_shop\".\"photo\", \"mall_shop\".\"cerated_at\", \"mall_shop\".\"updated_at\" FROM \"mall_shop\" WHERE (\"mall_shop\".\"id\" >= 5 AND \"mall_shop\".\"id\" < 10) ORDER BY \"mall_shop\".\"id\" DESC LIMIT 21; args=(5, 10)\n"
     ]
    },
    {
     "data": {
      "text/plain": [
       "<QuerySet [<Shop: Shop object (9)>, <Shop: Shop object (8)>, <Shop: Shop object (7)>, <Shop: Shop object (6)>, <Shop: Shop object (5)>]>"
      ]
     },
     "execution_count": 43,
     "metadata": {},
     "output_type": "execute_result"
    }
   ],
   "source": [
    "qs.filter(pk__gte=5).filter(pk__lt=10) #.으로 연결해서 호출하는 것을 체이닝(chaining)이라고 함."
   ]
  },
  {
   "cell_type": "code",
   "execution_count": null,
   "id": "b6dbf8bd",
   "metadata": {},
   "outputs": [],
   "source": []
  },
  {
   "cell_type": "code",
   "execution_count": 48,
   "id": "acee09e3",
   "metadata": {},
   "outputs": [],
   "source": [
    "qs1 = Shop.objects.all()\n",
    "qs1 = qs1.filter(pk__gte=5)\n",
    "qs1 = qs1.filter(pk__lt=10)"
   ]
  },
  {
   "cell_type": "code",
   "execution_count": 49,
   "id": "dfc6f741",
   "metadata": {},
   "outputs": [],
   "source": [
    "qs2 = Shop.objects.all().filter(pk__gte=5).filter(pk__lt=10)"
   ]
  },
  {
   "cell_type": "code",
   "execution_count": null,
   "id": "594f8725",
   "metadata": {},
   "outputs": [],
   "source": [
    "# filter set을 만드는 방식의 차이고 실제로 별다른 차이는 X "
   ]
  },
  {
   "cell_type": "code",
   "execution_count": null,
   "id": "2671cd8c",
   "metadata": {},
   "outputs": [],
   "source": []
  },
  {
   "cell_type": "code",
   "execution_count": 50,
   "id": "7cb17270",
   "metadata": {},
   "outputs": [],
   "source": [
    "# QuerySet is Lazy."
   ]
  },
  {
   "cell_type": "code",
   "execution_count": 51,
   "id": "e28c5a82",
   "metadata": {},
   "outputs": [],
   "source": [
    "qs = Shop.objects.all()"
   ]
  },
  {
   "cell_type": "code",
   "execution_count": 52,
   "id": "0950b3bd",
   "metadata": {},
   "outputs": [
    {
     "name": "stderr",
     "output_type": "stream",
     "text": [
      "(0.000) SELECT \"mall_shop\".\"id\", \"mall_shop\".\"name\", \"mall_shop\".\"description\", \"mall_shop\".\"telephone\", \"mall_shop\".\"photo\", \"mall_shop\".\"cerated_at\", \"mall_shop\".\"updated_at\" FROM \"mall_shop\" ORDER BY \"mall_shop\".\"id\" DESC LIMIT 21; args=()\n"
     ]
    },
    {
     "data": {
      "text/plain": [
       "<QuerySet [<Shop: Shop object (106)>, <Shop: Shop object (105)>, <Shop: Shop object (104)>, <Shop: Shop object (103)>, <Shop: Shop object (102)>, <Shop: Shop object (101)>, <Shop: Shop object (100)>, <Shop: Shop object (99)>, <Shop: Shop object (98)>, <Shop: Shop object (97)>, <Shop: Shop object (96)>, <Shop: Shop object (95)>, <Shop: Shop object (94)>, <Shop: Shop object (93)>, <Shop: Shop object (92)>, <Shop: Shop object (91)>, <Shop: Shop object (90)>, <Shop: Shop object (89)>, <Shop: Shop object (88)>, <Shop: Shop object (87)>, '...(remaining elements truncated)...']>"
      ]
     },
     "execution_count": 52,
     "metadata": {},
     "output_type": "execute_result"
    }
   ],
   "source": [
    "Shop.objects.all()"
   ]
  },
  {
   "cell_type": "code",
   "execution_count": null,
   "id": "ac7ab42d",
   "metadata": {},
   "outputs": [],
   "source": []
  },
  {
   "cell_type": "code",
   "execution_count": 57,
   "id": "cf89e15e",
   "metadata": {},
   "outputs": [],
   "source": [
    "1\n",
    "2\n",
    "3\n",
    "4\n",
    "5\n",
    "#python에서는 뭔가를 출력하려면 print를 해야하지만 쥬피터에서는 마지막 줄을 보여주기 시도함.\n",
    "i=6\n",
    "# i=6은 i에 6을 할당한 것이기 때문에 output이 나오지 않음. "
   ]
  },
  {
   "cell_type": "code",
   "execution_count": null,
   "id": "2b5e10f7",
   "metadata": {},
   "outputs": [],
   "source": []
  },
  {
   "cell_type": "code",
   "execution_count": 58,
   "id": "c0355b28",
   "metadata": {
    "scrolled": true
   },
   "outputs": [
    {
     "name": "stderr",
     "output_type": "stream",
     "text": [
      "(0.000) SELECT \"mall_shop\".\"id\", \"mall_shop\".\"name\", \"mall_shop\".\"description\", \"mall_shop\".\"telephone\", \"mall_shop\".\"photo\", \"mall_shop\".\"cerated_at\", \"mall_shop\".\"updated_at\" FROM \"mall_shop\" ORDER BY \"mall_shop\".\"id\" DESC; args=()\n"
     ]
    }
   ],
   "source": [
    "qs = Shop.objects.all()\n",
    "shop_list = qs\n",
    "# DB 접근 안함.\n",
    "# 하지만 \n",
    "shop_list=list(qs)\n",
    "# 로 하면 리스트화를 시키는 것이기 때문에 DB로 접근함.\n",
    "# 데이터가 많으면 느리게 되기 때문에 효율적으로 쓰기위해서는 쓰지 않는 것이 좋다."
   ]
  },
  {
   "cell_type": "code",
   "execution_count": null,
   "id": "711f1996",
   "metadata": {},
   "outputs": [],
   "source": []
  },
  {
   "cell_type": "markdown",
   "id": "027a8037",
   "metadata": {},
   "source": [
    "## Get 1 Row"
   ]
  },
  {
   "cell_type": "code",
   "execution_count": 74,
   "id": "40913af7",
   "metadata": {},
   "outputs": [],
   "source": [
    "pk=10\n",
    "not_exist_pk = 100000"
   ]
  },
  {
   "cell_type": "code",
   "execution_count": 62,
   "id": "ff5dea8c",
   "metadata": {},
   "outputs": [
    {
     "name": "stderr",
     "output_type": "stream",
     "text": [
      "(0.000) SELECT \"mall_shop\".\"id\", \"mall_shop\".\"name\", \"mall_shop\".\"description\", \"mall_shop\".\"telephone\", \"mall_shop\".\"photo\", \"mall_shop\".\"cerated_at\", \"mall_shop\".\"updated_at\" FROM \"mall_shop\" WHERE \"mall_shop\".\"id\" = 10 LIMIT 21; args=(10,)\n"
     ]
    },
    {
     "data": {
      "text/plain": [
       "<Shop: Shop object (10)>"
      ]
     },
     "execution_count": 62,
     "metadata": {},
     "output_type": "execute_result"
    }
   ],
   "source": [
    "shop = Shop.objects.get(pk=pk) # 가져올 대상이 1개임을 기대, 1개가 아니면 예외가 발생함.\n",
    "shop"
   ]
  },
  {
   "cell_type": "code",
   "execution_count": 76,
   "id": "c2fcf9cd",
   "metadata": {},
   "outputs": [
    {
     "name": "stderr",
     "output_type": "stream",
     "text": [
      "(0.000) SELECT \"mall_shop\".\"id\", \"mall_shop\".\"name\", \"mall_shop\".\"description\", \"mall_shop\".\"telephone\", \"mall_shop\".\"photo\", \"mall_shop\".\"cerated_at\", \"mall_shop\".\"updated_at\" FROM \"mall_shop\" WHERE \"mall_shop\".\"id\" = 100000 LIMIT 21; args=(100000,)\n"
     ]
    },
    {
     "ename": "DoesNotExist",
     "evalue": "Shop matching query does not exist.",
     "output_type": "error",
     "traceback": [
      "\u001b[1;31m---------------------------------------------------------------------------\u001b[0m",
      "\u001b[1;31mDoesNotExist\u001b[0m                              Traceback (most recent call last)",
      "\u001b[1;32m~\\AppData\\Local\\Temp/ipykernel_1800/1183449484.py\u001b[0m in \u001b[0;36m<module>\u001b[1;34m\u001b[0m\n\u001b[1;32m----> 1\u001b[1;33m \u001b[0mShop\u001b[0m\u001b[1;33m.\u001b[0m\u001b[0mobjects\u001b[0m\u001b[1;33m.\u001b[0m\u001b[0mget\u001b[0m\u001b[1;33m(\u001b[0m\u001b[0mpk\u001b[0m\u001b[1;33m=\u001b[0m\u001b[0mnot_exist_pk\u001b[0m\u001b[1;33m)\u001b[0m\u001b[1;33m\u001b[0m\u001b[1;33m\u001b[0m\u001b[0m\n\u001b[0m",
      "\u001b[1;32m~\\AppData\\Local\\Programs\\Python\\Python310\\lib\\site-packages\\django\\db\\models\\manager.py\u001b[0m in \u001b[0;36mmanager_method\u001b[1;34m(self, *args, **kwargs)\u001b[0m\n\u001b[0;32m     83\u001b[0m         \u001b[1;32mdef\u001b[0m \u001b[0mcreate_method\u001b[0m\u001b[1;33m(\u001b[0m\u001b[0mname\u001b[0m\u001b[1;33m,\u001b[0m \u001b[0mmethod\u001b[0m\u001b[1;33m)\u001b[0m\u001b[1;33m:\u001b[0m\u001b[1;33m\u001b[0m\u001b[1;33m\u001b[0m\u001b[0m\n\u001b[0;32m     84\u001b[0m             \u001b[1;32mdef\u001b[0m \u001b[0mmanager_method\u001b[0m\u001b[1;33m(\u001b[0m\u001b[0mself\u001b[0m\u001b[1;33m,\u001b[0m \u001b[1;33m*\u001b[0m\u001b[0margs\u001b[0m\u001b[1;33m,\u001b[0m \u001b[1;33m**\u001b[0m\u001b[0mkwargs\u001b[0m\u001b[1;33m)\u001b[0m\u001b[1;33m:\u001b[0m\u001b[1;33m\u001b[0m\u001b[1;33m\u001b[0m\u001b[0m\n\u001b[1;32m---> 85\u001b[1;33m                 \u001b[1;32mreturn\u001b[0m \u001b[0mgetattr\u001b[0m\u001b[1;33m(\u001b[0m\u001b[0mself\u001b[0m\u001b[1;33m.\u001b[0m\u001b[0mget_queryset\u001b[0m\u001b[1;33m(\u001b[0m\u001b[1;33m)\u001b[0m\u001b[1;33m,\u001b[0m \u001b[0mname\u001b[0m\u001b[1;33m)\u001b[0m\u001b[1;33m(\u001b[0m\u001b[1;33m*\u001b[0m\u001b[0margs\u001b[0m\u001b[1;33m,\u001b[0m \u001b[1;33m**\u001b[0m\u001b[0mkwargs\u001b[0m\u001b[1;33m)\u001b[0m\u001b[1;33m\u001b[0m\u001b[1;33m\u001b[0m\u001b[0m\n\u001b[0m\u001b[0;32m     86\u001b[0m             \u001b[0mmanager_method\u001b[0m\u001b[1;33m.\u001b[0m\u001b[0m__name__\u001b[0m \u001b[1;33m=\u001b[0m \u001b[0mmethod\u001b[0m\u001b[1;33m.\u001b[0m\u001b[0m__name__\u001b[0m\u001b[1;33m\u001b[0m\u001b[1;33m\u001b[0m\u001b[0m\n\u001b[0;32m     87\u001b[0m             \u001b[0mmanager_method\u001b[0m\u001b[1;33m.\u001b[0m\u001b[0m__doc__\u001b[0m \u001b[1;33m=\u001b[0m \u001b[0mmethod\u001b[0m\u001b[1;33m.\u001b[0m\u001b[0m__doc__\u001b[0m\u001b[1;33m\u001b[0m\u001b[1;33m\u001b[0m\u001b[0m\n",
      "\u001b[1;32m~\\AppData\\Local\\Programs\\Python\\Python310\\lib\\site-packages\\django\\db\\models\\query.py\u001b[0m in \u001b[0;36mget\u001b[1;34m(self, *args, **kwargs)\u001b[0m\n\u001b[0;32m    433\u001b[0m             \u001b[1;32mreturn\u001b[0m \u001b[0mclone\u001b[0m\u001b[1;33m.\u001b[0m\u001b[0m_result_cache\u001b[0m\u001b[1;33m[\u001b[0m\u001b[1;36m0\u001b[0m\u001b[1;33m]\u001b[0m\u001b[1;33m\u001b[0m\u001b[1;33m\u001b[0m\u001b[0m\n\u001b[0;32m    434\u001b[0m         \u001b[1;32mif\u001b[0m \u001b[1;32mnot\u001b[0m \u001b[0mnum\u001b[0m\u001b[1;33m:\u001b[0m\u001b[1;33m\u001b[0m\u001b[1;33m\u001b[0m\u001b[0m\n\u001b[1;32m--> 435\u001b[1;33m             raise self.model.DoesNotExist(\n\u001b[0m\u001b[0;32m    436\u001b[0m                 \u001b[1;34m\"%s matching query does not exist.\"\u001b[0m \u001b[1;33m%\u001b[0m\u001b[1;33m\u001b[0m\u001b[1;33m\u001b[0m\u001b[0m\n\u001b[0;32m    437\u001b[0m                 \u001b[0mself\u001b[0m\u001b[1;33m.\u001b[0m\u001b[0mmodel\u001b[0m\u001b[1;33m.\u001b[0m\u001b[0m_meta\u001b[0m\u001b[1;33m.\u001b[0m\u001b[0mobject_name\u001b[0m\u001b[1;33m\u001b[0m\u001b[1;33m\u001b[0m\u001b[0m\n",
      "\u001b[1;31mDoesNotExist\u001b[0m: Shop matching query does not exist."
     ]
    }
   ],
   "source": [
    "Shop.objects.get(pk=not_exist_pk) # Shop.DoesExitst 예외가 발샘"
   ]
  },
  {
   "cell_type": "code",
   "execution_count": 73,
   "id": "c456bb5e",
   "metadata": {},
   "outputs": [
    {
     "name": "stderr",
     "output_type": "stream",
     "text": [
      "(0.000) SELECT \"mall_shop\".\"id\", \"mall_shop\".\"name\", \"mall_shop\".\"description\", \"mall_shop\".\"telephone\", \"mall_shop\".\"photo\", \"mall_shop\".\"cerated_at\", \"mall_shop\".\"updated_at\" FROM \"mall_shop\" WHERE \"mall_shop\".\"id\" = 10 ORDER BY \"mall_shop\".\"id\" DESC LIMIT 1; args=(10,)\n"
     ]
    },
    {
     "data": {
      "text/plain": [
       "<Shop: Shop object (10)>"
      ]
     },
     "execution_count": 73,
     "metadata": {},
     "output_type": "execute_result"
    }
   ],
   "source": [
    "shop = Shop.objects.filter(pk=pk)[0]\n",
    "shop"
   ]
  },
  {
   "cell_type": "code",
   "execution_count": 77,
   "id": "92d69ba6",
   "metadata": {
    "collapsed": true
   },
   "outputs": [
    {
     "name": "stderr",
     "output_type": "stream",
     "text": [
      "(0.000) SELECT \"mall_shop\".\"id\", \"mall_shop\".\"name\", \"mall_shop\".\"description\", \"mall_shop\".\"telephone\", \"mall_shop\".\"photo\", \"mall_shop\".\"cerated_at\", \"mall_shop\".\"updated_at\" FROM \"mall_shop\" WHERE \"mall_shop\".\"id\" = 100000 ORDER BY \"mall_shop\".\"id\" DESC LIMIT 1; args=(100000,)\n"
     ]
    },
    {
     "ename": "IndexError",
     "evalue": "list index out of range",
     "output_type": "error",
     "traceback": [
      "\u001b[1;31m---------------------------------------------------------------------------\u001b[0m",
      "\u001b[1;31mIndexError\u001b[0m                                Traceback (most recent call last)",
      "\u001b[1;32m~\\AppData\\Local\\Temp/ipykernel_1800/2697758203.py\u001b[0m in \u001b[0;36m<module>\u001b[1;34m\u001b[0m\n\u001b[1;32m----> 1\u001b[1;33m \u001b[0mShop\u001b[0m\u001b[1;33m.\u001b[0m\u001b[0mobjects\u001b[0m\u001b[1;33m.\u001b[0m\u001b[0mfilter\u001b[0m\u001b[1;33m(\u001b[0m\u001b[0mpk\u001b[0m\u001b[1;33m=\u001b[0m\u001b[0mnot_exist_pk\u001b[0m\u001b[1;33m)\u001b[0m\u001b[1;33m[\u001b[0m\u001b[1;36m0\u001b[0m\u001b[1;33m]\u001b[0m\u001b[1;33m\u001b[0m\u001b[1;33m\u001b[0m\u001b[0m\n\u001b[0m",
      "\u001b[1;32m~\\AppData\\Local\\Programs\\Python\\Python310\\lib\\site-packages\\django\\db\\models\\query.py\u001b[0m in \u001b[0;36m__getitem__\u001b[1;34m(self, k)\u001b[0m\n\u001b[0;32m    316\u001b[0m         \u001b[0mqs\u001b[0m\u001b[1;33m.\u001b[0m\u001b[0mquery\u001b[0m\u001b[1;33m.\u001b[0m\u001b[0mset_limits\u001b[0m\u001b[1;33m(\u001b[0m\u001b[0mk\u001b[0m\u001b[1;33m,\u001b[0m \u001b[0mk\u001b[0m \u001b[1;33m+\u001b[0m \u001b[1;36m1\u001b[0m\u001b[1;33m)\u001b[0m\u001b[1;33m\u001b[0m\u001b[1;33m\u001b[0m\u001b[0m\n\u001b[0;32m    317\u001b[0m         \u001b[0mqs\u001b[0m\u001b[1;33m.\u001b[0m\u001b[0m_fetch_all\u001b[0m\u001b[1;33m(\u001b[0m\u001b[1;33m)\u001b[0m\u001b[1;33m\u001b[0m\u001b[1;33m\u001b[0m\u001b[0m\n\u001b[1;32m--> 318\u001b[1;33m         \u001b[1;32mreturn\u001b[0m \u001b[0mqs\u001b[0m\u001b[1;33m.\u001b[0m\u001b[0m_result_cache\u001b[0m\u001b[1;33m[\u001b[0m\u001b[1;36m0\u001b[0m\u001b[1;33m]\u001b[0m\u001b[1;33m\u001b[0m\u001b[1;33m\u001b[0m\u001b[0m\n\u001b[0m\u001b[0;32m    319\u001b[0m \u001b[1;33m\u001b[0m\u001b[0m\n\u001b[0;32m    320\u001b[0m     \u001b[1;32mdef\u001b[0m \u001b[0m__class_getitem__\u001b[0m\u001b[1;33m(\u001b[0m\u001b[0mcls\u001b[0m\u001b[1;33m,\u001b[0m \u001b[1;33m*\u001b[0m\u001b[0margs\u001b[0m\u001b[1;33m,\u001b[0m \u001b[1;33m**\u001b[0m\u001b[0mkwargs\u001b[0m\u001b[1;33m)\u001b[0m\u001b[1;33m:\u001b[0m\u001b[1;33m\u001b[0m\u001b[1;33m\u001b[0m\u001b[0m\n",
      "\u001b[1;31mIndexError\u001b[0m: list index out of range"
     ]
    }
   ],
   "source": [
    "Shop.objects.filter(pk=not_exist_pk)[0] # indexError가 발생. "
   ]
  },
  {
   "cell_type": "code",
   "execution_count": null,
   "id": "eb7b8338",
   "metadata": {},
   "outputs": [],
   "source": []
  },
  {
   "cell_type": "code",
   "execution_count": 79,
   "id": "48fb6320",
   "metadata": {},
   "outputs": [
    {
     "name": "stderr",
     "output_type": "stream",
     "text": [
      "(0.000) SELECT \"mall_shop\".\"id\", \"mall_shop\".\"name\", \"mall_shop\".\"description\", \"mall_shop\".\"telephone\", \"mall_shop\".\"photo\", \"mall_shop\".\"cerated_at\", \"mall_shop\".\"updated_at\" FROM \"mall_shop\" WHERE \"mall_shop\".\"id\" = 100000 ORDER BY \"mall_shop\".\"id\" DESC LIMIT 1; args=(100000,)\n"
     ]
    }
   ],
   "source": [
    "Shop.objects.filter(pk=not_exist_pk).first() # 지정 Row가 없다면 None을 반환할 뿐, 예외는 발생 X."
   ]
  },
  {
   "cell_type": "code",
   "execution_count": null,
   "id": "030a72a4",
   "metadata": {},
   "outputs": [],
   "source": []
  },
  {
   "cell_type": "markdown",
   "id": "12bc1bf6",
   "metadata": {},
   "source": [
    "## Conditons (OR)"
   ]
  },
  {
   "cell_type": "code",
   "execution_count": 82,
   "id": "a31fde64",
   "metadata": {},
   "outputs": [
    {
     "name": "stderr",
     "output_type": "stream",
     "text": [
      "(0.000) SELECT \"mall_shop\".\"id\", \"mall_shop\".\"name\", \"mall_shop\".\"description\", \"mall_shop\".\"telephone\", \"mall_shop\".\"photo\", \"mall_shop\".\"cerated_at\", \"mall_shop\".\"updated_at\" FROM \"mall_shop\" WHERE (\"mall_shop\".\"id\" >= 5 AND \"mall_shop\".\"id\" < 10) ORDER BY \"mall_shop\".\"id\" DESC LIMIT 21; args=(5, 10)\n"
     ]
    },
    {
     "data": {
      "text/plain": [
       "<QuerySet [<Shop: Shop object (9)>, <Shop: Shop object (8)>, <Shop: Shop object (7)>, <Shop: Shop object (6)>, <Shop: Shop object (5)>]>"
      ]
     },
     "execution_count": 82,
     "metadata": {},
     "output_type": "execute_result"
    }
   ],
   "source": [
    "qs = Shop.objects.all()\n",
    "qs.filter(pk__gte=5, pk__lt=10) #and"
   ]
  },
  {
   "cell_type": "code",
   "execution_count": 83,
   "id": "d044c5e2",
   "metadata": {},
   "outputs": [],
   "source": [
    "from django.db.models import Q"
   ]
  },
  {
   "cell_type": "code",
   "execution_count": 84,
   "id": "1e211694",
   "metadata": {},
   "outputs": [
    {
     "data": {
      "text/plain": [
       "<Q: (AND: ('pk__gte', 5))>"
      ]
     },
     "execution_count": 84,
     "metadata": {},
     "output_type": "execute_result"
    }
   ],
   "source": [
    "Q(pk__gte=5)"
   ]
  },
  {
   "cell_type": "code",
   "execution_count": 85,
   "id": "97c3d334",
   "metadata": {},
   "outputs": [
    {
     "data": {
      "text/plain": [
       "<Q: (AND: ('pk__lt', 10))>"
      ]
     },
     "execution_count": 85,
     "metadata": {},
     "output_type": "execute_result"
    }
   ],
   "source": [
    "Q(pk__lt=10)"
   ]
  },
  {
   "cell_type": "code",
   "execution_count": 86,
   "id": "609156db",
   "metadata": {},
   "outputs": [
    {
     "data": {
      "text/plain": [
       "<Q: (AND: ('pk__gte', 5), ('pk__lt', 10))>"
      ]
     },
     "execution_count": 86,
     "metadata": {},
     "output_type": "execute_result"
    }
   ],
   "source": [
    "Q(pk__gte=5) & Q(pk__lt=10)"
   ]
  },
  {
   "cell_type": "code",
   "execution_count": 87,
   "id": "876a1121",
   "metadata": {},
   "outputs": [
    {
     "data": {
      "text/plain": [
       "<Q: (OR: ('pk__gte', 5), ('pk__lt', 10))>"
      ]
     },
     "execution_count": 87,
     "metadata": {},
     "output_type": "execute_result"
    }
   ],
   "source": [
    "Q(pk__gte=5) | Q(pk__lt=10)"
   ]
  },
  {
   "cell_type": "code",
   "execution_count": null,
   "id": "73f840d7",
   "metadata": {},
   "outputs": [],
   "source": []
  },
  {
   "cell_type": "code",
   "execution_count": 88,
   "id": "961aa716",
   "metadata": {},
   "outputs": [
    {
     "name": "stderr",
     "output_type": "stream",
     "text": [
      "(0.000) SELECT \"mall_shop\".\"id\", \"mall_shop\".\"name\", \"mall_shop\".\"description\", \"mall_shop\".\"telephone\", \"mall_shop\".\"photo\", \"mall_shop\".\"cerated_at\", \"mall_shop\".\"updated_at\" FROM \"mall_shop\" WHERE (\"mall_shop\".\"id\" >= 5 AND \"mall_shop\".\"id\" < 10) ORDER BY \"mall_shop\".\"id\" DESC LIMIT 21; args=(5, 10)\n"
     ]
    },
    {
     "data": {
      "text/plain": [
       "<QuerySet [<Shop: Shop object (9)>, <Shop: Shop object (8)>, <Shop: Shop object (7)>, <Shop: Shop object (6)>, <Shop: Shop object (5)>]>"
      ]
     },
     "execution_count": 88,
     "metadata": {},
     "output_type": "execute_result"
    }
   ],
   "source": [
    "qs = Shop.objects.all()\n",
    "qs.filter(\n",
    "    Q(pk__gte=5) & Q(pk__lt=10)\n",
    ")"
   ]
  },
  {
   "cell_type": "code",
   "execution_count": null,
   "id": "a227ea93",
   "metadata": {},
   "outputs": [],
   "source": []
  },
  {
   "cell_type": "code",
   "execution_count": 92,
   "id": "140e28f6",
   "metadata": {},
   "outputs": [
    {
     "data": {
      "text/plain": [
       "<Q: (OR: ('pk__gte', 5), ('pk__lt', 10))>"
      ]
     },
     "execution_count": 92,
     "metadata": {},
     "output_type": "execute_result"
    }
   ],
   "source": [
    "conditions = Q(pk__gte=5)\n",
    "# conditions = conditions | Q(pk__lt=10)\n",
    "conditions |= Q(pk__lt=10)\n",
    "# 2번째와 3번째는 같은 결과문을 송출.\n",
    "conditions"
   ]
  },
  {
   "cell_type": "code",
   "execution_count": null,
   "id": "8048ce81",
   "metadata": {},
   "outputs": [],
   "source": []
  },
  {
   "cell_type": "markdown",
   "id": "4c8740f5",
   "metadata": {},
   "source": [
    "# Updata Rows"
   ]
  },
  {
   "cell_type": "markdown",
   "id": "7ef64448",
   "metadata": {},
   "source": [
    "## 지정 Row"
   ]
  },
  {
   "cell_type": "code",
   "execution_count": 93,
   "id": "46779ec6",
   "metadata": {},
   "outputs": [
    {
     "name": "stderr",
     "output_type": "stream",
     "text": [
      "(0.000) SELECT \"mall_shop\".\"id\", \"mall_shop\".\"name\", \"mall_shop\".\"description\", \"mall_shop\".\"telephone\", \"mall_shop\".\"photo\", \"mall_shop\".\"cerated_at\", \"mall_shop\".\"updated_at\" FROM \"mall_shop\" WHERE \"mall_shop\".\"id\" = 10 LIMIT 21; args=(10,)\n"
     ]
    }
   ],
   "source": [
    "qs = Shop.objects.all()\n",
    "shop = qs.get(pk=10)"
   ]
  },
  {
   "cell_type": "code",
   "execution_count": 94,
   "id": "0247e03a",
   "metadata": {},
   "outputs": [
    {
     "data": {
      "text/plain": [
       "('가계명#4', '042-1234-9004')"
      ]
     },
     "execution_count": 94,
     "metadata": {},
     "output_type": "execute_result"
    }
   ],
   "source": [
    "shop.name, shop.telephone"
   ]
  },
  {
   "cell_type": "code",
   "execution_count": 95,
   "id": "dff19917",
   "metadata": {},
   "outputs": [],
   "source": [
    "shop.telephone = '042-1234-0006' #DB로 반영은 이루어지지 않았음."
   ]
  },
  {
   "cell_type": "code",
   "execution_count": 96,
   "id": "85df8662",
   "metadata": {},
   "outputs": [
    {
     "name": "stderr",
     "output_type": "stream",
     "text": [
      "(0.015) UPDATE \"mall_shop\" SET \"name\" = '가계명#4', \"description\" = '', \"telephone\" = '042-1234-0006', \"photo\" = '', \"cerated_at\" = '2021-12-01 06:45:36.779464', \"updated_at\" = '2021-12-01 07:38:43.462722' WHERE \"mall_shop\".\"id\" = 10; args=('가계명#4', '', '042-1234-0006', '', '2021-12-01 06:45:36.779464', '2021-12-01 07:38:43.462722', 10)\n"
     ]
    }
   ],
   "source": [
    "shop.save() # DB에 반영됨."
   ]
  },
  {
   "cell_type": "code",
   "execution_count": 97,
   "id": "e73e2918",
   "metadata": {},
   "outputs": [
    {
     "data": {
      "text/plain": [
       "('가계명#4', '042-1234-0006')"
      ]
     },
     "execution_count": 97,
     "metadata": {},
     "output_type": "execute_result"
    }
   ],
   "source": [
    "shop.name, shop.telephone"
   ]
  },
  {
   "cell_type": "code",
   "execution_count": null,
   "id": "96d8fceb",
   "metadata": {},
   "outputs": [],
   "source": []
  },
  {
   "cell_type": "markdown",
   "id": "b6ad7990",
   "metadata": {},
   "source": [
    "## 지정 범위의 Rows"
   ]
  },
  {
   "cell_type": "code",
   "execution_count": 98,
   "id": "18f37fe5",
   "metadata": {},
   "outputs": [
    {
     "name": "stderr",
     "output_type": "stream",
     "text": [
      "(0.031) UPDATE \"mall_shop\" SET \"description\" = 'not used description' WHERE \"mall_shop\".\"id\" <= 10; args=('not used description', 10)\n"
     ]
    },
    {
     "data": {
      "text/plain": [
       "8"
      ]
     },
     "execution_count": 98,
     "metadata": {},
     "output_type": "execute_result"
    }
   ],
   "source": [
    "qs = Shop.objects.all()\n",
    "qs = qs.filter(pk__lte=10)\n",
    "qs. update(\n",
    "    description=\"not used description\"\n",
    ")"
   ]
  },
  {
   "cell_type": "code",
   "execution_count": 99,
   "id": "cf43ebcb",
   "metadata": {
    "collapsed": true
   },
   "outputs": [
    {
     "name": "stderr",
     "output_type": "stream",
     "text": [
      "(0.000) SELECT \"mall_shop\".\"id\", \"mall_shop\".\"name\", \"mall_shop\".\"description\", \"mall_shop\".\"telephone\", \"mall_shop\".\"photo\", \"mall_shop\".\"cerated_at\", \"mall_shop\".\"updated_at\" FROM \"mall_shop\" WHERE \"mall_shop\".\"id\" <= 10 ORDER BY \"mall_shop\".\"id\" DESC; args=(10,)\n",
      "(0.016) UPDATE \"mall_shop\" SET \"name\" = '가계명#4', \"description\" = ' not used description', \"telephone\" = '042-1234-0006', \"photo\" = '', \"cerated_at\" = '2021-12-01 06:45:36.779464', \"updated_at\" = '2021-12-01 07:42:02.453905' WHERE \"mall_shop\".\"id\" = 10; args=('가계명#4', ' not used description', '042-1234-0006', '', '2021-12-01 06:45:36.779464', '2021-12-01 07:42:02.453905', 10)\n",
      "(0.015) UPDATE \"mall_shop\" SET \"name\" = '가계명#3', \"description\" = ' not used description', \"telephone\" = '042-1234-9003', \"photo\" = '', \"cerated_at\" = '2021-12-01 06:45:36.773383', \"updated_at\" = '2021-12-01 07:42:02.470419' WHERE \"mall_shop\".\"id\" = 9; args=('가계명#3', ' not used description', '042-1234-9003', '', '2021-12-01 06:45:36.773383', '2021-12-01 07:42:02.470419', 9)\n",
      "(0.000) UPDATE \"mall_shop\" SET \"name\" = '가계명#2', \"description\" = ' not used description', \"telephone\" = '042-1234-9002', \"photo\" = '', \"cerated_at\" = '2021-12-01 06:45:36.764367', \"updated_at\" = '2021-12-01 07:42:02.481388' WHERE \"mall_shop\".\"id\" = 8; args=('가계명#2', ' not used description', '042-1234-9002', '', '2021-12-01 06:45:36.764367', '2021-12-01 07:42:02.481388', 8)\n",
      "(0.016) UPDATE \"mall_shop\" SET \"name\" = '가계명#1', \"description\" = ' not used description', \"telephone\" = '042-1234-9001', \"photo\" = '', \"cerated_at\" = '2021-12-01 06:45:36.744416', \"updated_at\" = '2021-12-01 07:42:02.487372' WHERE \"mall_shop\".\"id\" = 7; args=('가계명#1', ' not used description', '042-1234-9001', '', '2021-12-01 06:45:36.744416', '2021-12-01 07:42:02.487372', 7)\n",
      "(0.000) UPDATE \"mall_shop\" SET \"name\" = '셀프24시빨래방', \"description\" = ' not used description', \"telephone\" = '.042-1234-4321', \"photo\" = '', \"cerated_at\" = '2021-12-01 06:40:54.521267', \"updated_at\" = '2021-12-01 07:42:02.493358' WHERE \"mall_shop\".\"id\" = 6; args=('셀프24시빨래방', ' not used description', '.042-1234-4321', '', '2021-12-01 06:40:54.521267', '2021-12-01 07:42:02.493358', 6)\n",
      "(0.016) UPDATE \"mall_shop\" SET \"name\" = '투썸플레이스', \"description\" = ' not used description', \"telephone\" = '042-1234-1234', \"photo\" = '', \"cerated_at\" = '2021-12-01 06:40:54.505580', \"updated_at\" = '2021-12-01 07:42:02.500338' WHERE \"mall_shop\".\"id\" = 5; args=('투썸플레이스', ' not used description', '042-1234-1234', '', '2021-12-01 06:40:54.505580', '2021-12-01 07:42:02.500338', 5)\n",
      "(0.015) UPDATE \"mall_shop\" SET \"name\" = '셀프24시빨래방', \"description\" = ' not used description', \"telephone\" = '.042-1234-4321', \"photo\" = '', \"cerated_at\" = '2021-12-01 06:10:43.844350', \"updated_at\" = '2021-12-01 07:42:02.517230' WHERE \"mall_shop\".\"id\" = 4; args=('셀프24시빨래방', ' not used description', '.042-1234-4321', '', '2021-12-01 06:10:43.844350', '2021-12-01 07:42:02.517230', 4)\n",
      "(0.000) UPDATE \"mall_shop\" SET \"name\" = '투썸플레이스', \"description\" = ' not used description', \"telephone\" = '042-1234-1234', \"photo\" = '', \"cerated_at\" = '2021-12-01 06:10:42.665531', \"updated_at\" = '2021-12-01 07:42:02.524212' WHERE \"mall_shop\".\"id\" = 3; args=('투썸플레이스', ' not used description', '042-1234-1234', '', '2021-12-01 06:10:42.665531', '2021-12-01 07:42:02.524212', 3)\n"
     ]
    }
   ],
   "source": [
    "qs = Shop.objects.all()\n",
    "qs = qs.filter(pk__lte=10)\n",
    "for shop in qs:\n",
    "    shop.description = \" not used description\"\n",
    "    shop.save()"
   ]
  },
  {
   "cell_type": "code",
   "execution_count": null,
   "id": "f2c273f1",
   "metadata": {},
   "outputs": [],
   "source": [
    "# 1번이 더 효율적임."
   ]
  },
  {
   "cell_type": "code",
   "execution_count": null,
   "id": "d7658652",
   "metadata": {},
   "outputs": [],
   "source": []
  },
  {
   "cell_type": "code",
   "execution_count": null,
   "id": "c34da281",
   "metadata": {},
   "outputs": [],
   "source": []
  },
  {
   "cell_type": "code",
   "execution_count": null,
   "id": "9b1efa89",
   "metadata": {},
   "outputs": [],
   "source": []
  },
  {
   "cell_type": "code",
   "execution_count": null,
   "id": "d7cc7517",
   "metadata": {},
   "outputs": [],
   "source": []
  },
  {
   "cell_type": "markdown",
   "id": "9adb181f",
   "metadata": {},
   "source": [
    "# Delete Rows"
   ]
  },
  {
   "cell_type": "code",
   "execution_count": 11,
   "id": "69d687a9",
   "metadata": {},
   "outputs": [],
   "source": [
    "# qs = Shop.objects.all()"
   ]
  },
  {
   "cell_type": "code",
   "execution_count": 12,
   "id": "24ca07d9",
   "metadata": {},
   "outputs": [],
   "source": [
    "# qs.delete()"
   ]
  },
  {
   "cell_type": "code",
   "execution_count": null,
   "id": "87c9b4ca",
   "metadata": {},
   "outputs": [],
   "source": []
  },
  {
   "cell_type": "code",
   "execution_count": null,
   "id": "4f9e0f6e",
   "metadata": {},
   "outputs": [],
   "source": []
  },
  {
   "cell_type": "code",
   "execution_count": null,
   "id": "012ef1eb",
   "metadata": {},
   "outputs": [],
   "source": []
  }
 ],
 "metadata": {
  "kernelspec": {
   "display_name": "Python 3 (ipykernel)",
   "language": "python",
   "name": "python3"
  },
  "language_info": {
   "codemirror_mode": {
    "name": "ipython",
    "version": 3
   },
   "file_extension": ".py",
   "mimetype": "text/x-python",
   "name": "python",
   "nbconvert_exporter": "python",
   "pygments_lexer": "ipython3",
   "version": "3.10.0"
  }
 },
 "nbformat": 4,
 "nbformat_minor": 5
}

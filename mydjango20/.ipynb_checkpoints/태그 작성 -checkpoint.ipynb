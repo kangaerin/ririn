{
 "cells": [
  {
   "cell_type": "code",
   "execution_count": 2,
   "id": "f713f5cf",
   "metadata": {},
   "outputs": [],
   "source": [
    "import os\n",
    "\n",
    "os.environ[\"DJANGO_SETTINGS_MODULE\"] = \"mydjango20.settings\"\n",
    "os.environ[\"DJANGO_ALLOW_ASYNC_UNSAFE\"] = \"true\"\n",
    "\n",
    "import django\n",
    "django.setup()"
   ]
  },
  {
   "cell_type": "code",
   "execution_count": 3,
   "id": "57f97cdb",
   "metadata": {},
   "outputs": [],
   "source": [
    "from shop.models import Shop"
   ]
  },
  {
   "cell_type": "code",
   "execution_count": 5,
   "id": "549662e8",
   "metadata": {},
   "outputs": [
    {
     "data": {
      "text/plain": [
       "<Shop: 칭호와>"
      ]
     },
     "execution_count": 5,
     "metadata": {},
     "output_type": "execute_result"
    }
   ],
   "source": [
    "shop = Shop.objects.get(pk=6) # 갓 생성된 shop을 조회\n",
    "shop"
   ]
  },
  {
   "cell_type": "code",
   "execution_count": 13,
   "id": "f885acca",
   "metadata": {},
   "outputs": [],
   "source": [
    "tags = \"중화, 중국집\""
   ]
  },
  {
   "cell_type": "code",
   "execution_count": 15,
   "id": "99fbb1a7",
   "metadata": {},
   "outputs": [],
   "source": [
    "from shop.models import Tag"
   ]
  },
  {
   "cell_type": "code",
   "execution_count": 32,
   "id": "805070ec",
   "metadata": {},
   "outputs": [
    {
     "data": {
      "text/plain": [
       "<Tag: 한식당>"
      ]
     },
     "execution_count": 32,
     "metadata": {},
     "output_type": "execute_result"
    }
   ],
   "source": [
    "tag_name = \"한식당\"\n",
    "\n",
    "# if not Tag.objects.filter(name=tag_name).exists():\n",
    "#     Tag.objects.create(name=tag_name) # db에 insert시킴.\n",
    "#     print(\"생성\")\n",
    "# else:\n",
    "#     print(\"do nothing\")\n",
    "\n",
    "# ManyToMany 필드 처리에서\n",
    "# 관계로 추가할 모델의 인스턴스 리스트가 필요합니다.\n",
    "\n",
    "tag, __ = Tag.objects.get_or_create(name=tag_name)\n",
    "tag\n",
    "# _을 변수명으로 쓰면 나는 신경쓰고 싶지 않다고 django는 _에 의미가 있어서 _ _ 두개를 쓴다."
   ]
  },
  {
   "cell_type": "code",
   "execution_count": 42,
   "id": "962fdad1",
   "metadata": {},
   "outputs": [
    {
     "data": {
      "text/plain": [
       "[<Tag: 중화>, <Tag: 중국집>]"
      ]
     },
     "execution_count": 42,
     "metadata": {},
     "output_type": "execute_result"
    }
   ],
   "source": [
    "tag_list = []\n",
    "\n",
    "for word in tags.split(\",\"):\n",
    "    tag_name = word.strip() # 좌우공백 제거\n",
    "    tag, __ = Tag.objects.get_or_create(name=tag_name)\n",
    "    tag_list.append(tag)\n",
    "    \n",
    "tag_list"
   ]
  },
  {
   "cell_type": "code",
   "execution_count": 43,
   "id": "6b90feec",
   "metadata": {},
   "outputs": [
    {
     "data": {
      "text/plain": [
       "<QuerySet []>"
      ]
     },
     "execution_count": 43,
     "metadata": {},
     "output_type": "execute_result"
    }
   ],
   "source": [
    "shop.tag_set.all() #shop에 연결된 전체 Tag 목록"
   ]
  },
  {
   "cell_type": "code",
   "execution_count": 47,
   "id": "3455dc22",
   "metadata": {},
   "outputs": [],
   "source": [
    "shop.tag_set.add(*tag_list) # 중복 add에 대한 처리가 내부적으로 되어있음.\n",
    "# * : 풀어서 적용함. "
   ]
  },
  {
   "cell_type": "code",
   "execution_count": 48,
   "id": "be18430c",
   "metadata": {},
   "outputs": [
    {
     "data": {
      "text/plain": [
       "<QuerySet [<Tag: 중화>, <Tag: 중국집>]>"
      ]
     },
     "execution_count": 48,
     "metadata": {},
     "output_type": "execute_result"
    }
   ],
   "source": [
    "shop.tag_set.all()"
   ]
  },
  {
   "cell_type": "code",
   "execution_count": 41,
   "id": "03051c6c",
   "metadata": {},
   "outputs": [],
   "source": [
    "# shop.tag_set.clear() #관계를 지움."
   ]
  },
  {
   "cell_type": "code",
   "execution_count": null,
   "id": "56dc415a",
   "metadata": {},
   "outputs": [],
   "source": []
  }
 ],
 "metadata": {
  "kernelspec": {
   "display_name": "Python 3 (ipykernel)",
   "language": "python",
   "name": "python3"
  },
  "language_info": {
   "codemirror_mode": {
    "name": "ipython",
    "version": 3
   },
   "file_extension": ".py",
   "mimetype": "text/x-python",
   "name": "python",
   "nbconvert_exporter": "python",
   "pygments_lexer": "ipython3",
   "version": "3.10.0"
  }
 },
 "nbformat": 4,
 "nbformat_minor": 5
}

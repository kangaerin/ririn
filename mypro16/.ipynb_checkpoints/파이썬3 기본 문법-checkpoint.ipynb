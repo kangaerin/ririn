{
 "cells": [
  {
   "cell_type": "code",
   "execution_count": 15,
   "id": "abb7c099",
   "metadata": {},
   "outputs": [],
   "source": [
    "import math\n",
    "\n",
    "class Circle: \n",
    "    def __init__(self, x, y, radius):\n",
    "        self.x = x#임의의 이름\n",
    "        self.y = y\n",
    "        self.radius = radius\n",
    "        \n",
    "\n",
    "    \n",
    "    def get_area(self):\n",
    "        return math.pi * self.radius * self.radius"
   ]
  },
  {
   "cell_type": "code",
   "execution_count": 16,
   "id": "a04de102",
   "metadata": {},
   "outputs": [],
   "source": [
    "circle = Circle(20, 30, 10)"
   ]
  },
  {
   "cell_type": "code",
   "execution_count": 17,
   "id": "9ad4f6e5",
   "metadata": {},
   "outputs": [
    {
     "data": {
      "text/plain": [
       "(20, 30, 10)"
      ]
     },
     "execution_count": 17,
     "metadata": {},
     "output_type": "execute_result"
    }
   ],
   "source": [
    "circle.x, circle.y, circle.radius"
   ]
  },
  {
   "cell_type": "code",
   "execution_count": 21,
   "id": "54d72346",
   "metadata": {},
   "outputs": [
    {
     "data": {
      "text/plain": [
       "314.1592653589793"
      ]
     },
     "execution_count": 21,
     "metadata": {},
     "output_type": "execute_result"
    }
   ],
   "source": [
    "# get_area(circle)\n",
    "circle.get_area()"
   ]
  },
  {
   "cell_type": "code",
   "execution_count": 25,
   "id": "60d20eab",
   "metadata": {},
   "outputs": [
    {
     "ename": "AttributeError",
     "evalue": "'Circle' object has no attribute 'a'",
     "output_type": "error",
     "traceback": [
      "\u001b[1;31m---------------------------------------------------------------------------\u001b[0m",
      "\u001b[1;31mAttributeError\u001b[0m                            Traceback (most recent call last)",
      "\u001b[1;32m~\\AppData\\Local\\Temp/ipykernel_7036/3539446559.py\u001b[0m in \u001b[0;36m<module>\u001b[1;34m\u001b[0m\n\u001b[1;32m----> 1\u001b[1;33m \u001b[0mcircle\u001b[0m\u001b[1;33m.\u001b[0m\u001b[0ma\u001b[0m\u001b[1;33m\u001b[0m\u001b[1;33m\u001b[0m\u001b[0m\n\u001b[0m",
      "\u001b[1;31mAttributeError\u001b[0m: 'Circle' object has no attribute 'a'"
     ]
    }
   ],
   "source": [
    "circle.a"
   ]
  },
  {
   "cell_type": "code",
   "execution_count": 26,
   "id": "fb34eb6c",
   "metadata": {},
   "outputs": [
    {
     "ename": "AttributeError",
     "evalue": "'Circle' object has no attribute 'area'",
     "output_type": "error",
     "traceback": [
      "\u001b[1;31m---------------------------------------------------------------------------\u001b[0m",
      "\u001b[1;31mAttributeError\u001b[0m                            Traceback (most recent call last)",
      "\u001b[1;32m~\\AppData\\Local\\Temp/ipykernel_7036/975618488.py\u001b[0m in \u001b[0;36m<module>\u001b[1;34m\u001b[0m\n\u001b[1;32m----> 1\u001b[1;33m \u001b[0mcircle\u001b[0m\u001b[1;33m.\u001b[0m\u001b[0marea\u001b[0m\u001b[1;33m(\u001b[0m\u001b[1;33m)\u001b[0m\u001b[1;33m\u001b[0m\u001b[1;33m\u001b[0m\u001b[0m\n\u001b[0m",
      "\u001b[1;31mAttributeError\u001b[0m: 'Circle' object has no attribute 'area'"
     ]
    }
   ],
   "source": [
    "circle.area()"
   ]
  },
  {
   "cell_type": "code",
   "execution_count": null,
   "id": "bf7b6689",
   "metadata": {},
   "outputs": [],
   "source": []
  },
  {
   "cell_type": "markdown",
   "id": "b2b0de72",
   "metadata": {},
   "source": [
    "# Generators"
   ]
  },
  {
   "cell_type": "code",
   "execution_count": 36,
   "id": "7438d4aa",
   "metadata": {},
   "outputs": [],
   "source": [
    "def make_numbers_1():\n",
    "    numbers = []\n",
    "    for i in range(1,11):\n",
    "        numbers.append(i)\n",
    "    return numbers"
   ]
  },
  {
   "cell_type": "code",
   "execution_count": 37,
   "id": "2cf2883e",
   "metadata": {},
   "outputs": [
    {
     "data": {
      "text/plain": [
       "[1, 2, 3, 4, 5, 6, 7, 8, 9, 10]"
      ]
     },
     "execution_count": 37,
     "metadata": {},
     "output_type": "execute_result"
    }
   ],
   "source": [
    "make_numbers_1()"
   ]
  },
  {
   "cell_type": "markdown",
   "id": "8695503e",
   "metadata": {},
   "source": []
  },
  {
   "cell_type": "code",
   "execution_count": 39,
   "id": "ce955d82",
   "metadata": {},
   "outputs": [
    {
     "name": "stdout",
     "output_type": "stream",
     "text": [
      "1\n",
      "2\n",
      "3\n",
      "4\n",
      "5\n",
      "6\n",
      "7\n",
      "8\n",
      "9\n",
      "10\n"
     ]
    }
   ],
   "source": [
    "for number in make_numbers_1():\n",
    "    print(number)"
   ]
  },
  {
   "cell_type": "code",
   "execution_count": 40,
   "id": "5453a584",
   "metadata": {},
   "outputs": [],
   "source": [
    "# generator Function. (함수로 구현한 제너레이터)\n",
    "\n",
    "def make_number_2():\n",
    "    for i in range(1,11):\n",
    "        yield i"
   ]
  },
  {
   "cell_type": "code",
   "execution_count": 41,
   "id": "0400bd59",
   "metadata": {},
   "outputs": [
    {
     "data": {
      "text/plain": [
       "<generator object make_number_2 at 0x000001FE6B18F7D0>"
      ]
     },
     "execution_count": 41,
     "metadata": {},
     "output_type": "execute_result"
    }
   ],
   "source": [
    "make_number_2() # make_number_2 타입의 새로운 generator 변수(객체가 만들어짐)"
   ]
  },
  {
   "cell_type": "code",
   "execution_count": 42,
   "id": "375c73ca",
   "metadata": {},
   "outputs": [
    {
     "data": {
      "text/plain": [
       "<generator object make_number_2 at 0x000001FE6A5384A0>"
      ]
     },
     "execution_count": 42,
     "metadata": {},
     "output_type": "execute_result"
    }
   ],
   "source": [
    "make_number_2()"
   ]
  },
  {
   "cell_type": "code",
   "execution_count": 43,
   "id": "d9bc85de",
   "metadata": {},
   "outputs": [],
   "source": [
    "gen_numbers = make_number_2()"
   ]
  },
  {
   "cell_type": "code",
   "execution_count": 47,
   "id": "1cdd2eaa",
   "metadata": {},
   "outputs": [
    {
     "data": {
      "text/plain": [
       "3"
      ]
     },
     "execution_count": 47,
     "metadata": {},
     "output_type": "execute_result"
    }
   ],
   "source": [
    "next(gen_numbers)"
   ]
  },
  {
   "cell_type": "code",
   "execution_count": 55,
   "id": "a4dc56ab",
   "metadata": {},
   "outputs": [
    {
     "ename": "StopIteration",
     "evalue": "",
     "output_type": "error",
     "traceback": [
      "\u001b[1;31m---------------------------------------------------------------------------\u001b[0m",
      "\u001b[1;31mStopIteration\u001b[0m                             Traceback (most recent call last)",
      "\u001b[1;32m~\\AppData\\Local\\Temp/ipykernel_7036/66070288.py\u001b[0m in \u001b[0;36m<module>\u001b[1;34m\u001b[0m\n\u001b[1;32m----> 1\u001b[1;33m \u001b[0mnext\u001b[0m\u001b[1;33m(\u001b[0m\u001b[0mgen_numbers\u001b[0m\u001b[1;33m)\u001b[0m\u001b[1;33m\u001b[0m\u001b[1;33m\u001b[0m\u001b[0m\n\u001b[0m",
      "\u001b[1;31mStopIteration\u001b[0m: "
     ]
    }
   ],
   "source": [
    "next(gen_numbers) #10을 넘어가면 stoplteration이 뜬다. range(1,11)이기 때문."
   ]
  },
  {
   "cell_type": "code",
   "execution_count": 59,
   "id": "8386ae04",
   "metadata": {
    "collapsed": true
   },
   "outputs": [
    {
     "name": "stdout",
     "output_type": "stream",
     "text": [
      "1\n",
      "2\n",
      "------\n",
      "3\n",
      "4\n",
      "5\n",
      "6\n",
      "7\n",
      "8\n",
      "9\n",
      "10\n"
     ]
    }
   ],
   "source": [
    "gen_numbers2 = make_number_2()\n",
    "print(next(gen_numbers2))\n",
    "print(next(gen_numbers2))\n",
    "print(\"------\")\n",
    "for number in gen_numbers2:\n",
    "    print(number) #stoplteration이 발생하면 for문을 중단시킴."
   ]
  },
  {
   "cell_type": "code",
   "execution_count": null,
   "id": "b6de8002",
   "metadata": {},
   "outputs": [],
   "source": []
  },
  {
   "cell_type": "code",
   "execution_count": 63,
   "id": "314ba7b6",
   "metadata": {},
   "outputs": [
    {
     "data": {
      "text/plain": [
       "[1, 4, 9, 16, 25, 36, 49, 64, 81, 100]"
      ]
     },
     "execution_count": 63,
     "metadata": {},
     "output_type": "execute_result"
    }
   ],
   "source": [
    "[i**2 for i in range(1,11)] # list comprehension 문법 "
   ]
  },
  {
   "cell_type": "code",
   "execution_count": 65,
   "id": "2cd5e26c",
   "metadata": {},
   "outputs": [
    {
     "data": {
      "text/plain": [
       "{1, 4, 9, 16, 25, 36, 49, 64, 81, 100}"
      ]
     },
     "execution_count": 65,
     "metadata": {},
     "output_type": "execute_result"
    }
   ],
   "source": [
    "{i**2 for i in range(1,11)} # set comprehension "
   ]
  },
  {
   "cell_type": "code",
   "execution_count": 66,
   "id": "9a85e638",
   "metadata": {},
   "outputs": [
    {
     "data": {
      "text/plain": [
       "<generator object <genexpr> at 0x000001FE6A53A500>"
      ]
     },
     "execution_count": 66,
     "metadata": {},
     "output_type": "execute_result"
    }
   ],
   "source": [
    " # generator Expresion (표현식)\n",
    "(i**2 for i in range(1,11))"
   ]
  },
  {
   "cell_type": "code",
   "execution_count": null,
   "id": "36324ab9",
   "metadata": {},
   "outputs": [],
   "source": []
  },
  {
   "cell_type": "code",
   "execution_count": 64,
   "id": "80d95fb2",
   "metadata": {},
   "outputs": [
    {
     "data": {
      "text/plain": [
       "()"
      ]
     },
     "execution_count": 64,
     "metadata": {},
     "output_type": "execute_result"
    }
   ],
   "source": [
    "[] # 대괄호\n",
    "{} # 중괄호\n",
    "() # 소괄호"
   ]
  },
  {
   "cell_type": "code",
   "execution_count": null,
   "id": "dad31eb2",
   "metadata": {},
   "outputs": [],
   "source": []
  }
 ],
 "metadata": {
  "kernelspec": {
   "display_name": "Python 3 (ipykernel)",
   "language": "python",
   "name": "python3"
  },
  "language_info": {
   "codemirror_mode": {
    "name": "ipython",
    "version": 3
   },
   "file_extension": ".py",
   "mimetype": "text/x-python",
   "name": "python",
   "nbconvert_exporter": "python",
   "pygments_lexer": "ipython3",
   "version": "3.10.0"
  }
 },
 "nbformat": 4,
 "nbformat_minor": 5
}

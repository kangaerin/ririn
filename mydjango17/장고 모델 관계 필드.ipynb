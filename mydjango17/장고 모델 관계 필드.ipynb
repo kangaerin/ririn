{
 "cells": [
  {
   "cell_type": "code",
   "execution_count": 5,
   "id": "244a751d",
   "metadata": {},
   "outputs": [],
   "source": [
    "import os\n",
    "\n",
    "os.environ[\"DJANGO_SETTINGS_MODULE\"] = \"mydjango17.settings\"\n",
    "os.environ[\"DJANGO_ALLOW_ASYNC_UNSAFE\"] = \"true\"\n",
    "\n",
    "import django\n",
    "django.setup()"
   ]
  },
  {
   "cell_type": "code",
   "execution_count": 6,
   "id": "295e1ba1",
   "metadata": {},
   "outputs": [],
   "source": [
    "from diary.models import Post, Comment, Tag"
   ]
  },
  {
   "cell_type": "code",
   "execution_count": null,
   "id": "ab98ccd1",
   "metadata": {},
   "outputs": [],
   "source": []
  },
  {
   "cell_type": "code",
   "execution_count": 7,
   "id": "9ecc4cb8",
   "metadata": {},
   "outputs": [
    {
     "name": "stderr",
     "output_type": "stream",
     "text": [
      "(0.000) SELECT \"diary_post\".\"id\", \"diary_post\".\"created_at\", \"diary_post\".\"updated_at\", \"diary_post\".\"author_name\", \"diary_post\".\"title\", \"diary_post\".\"content\", \"diary_post\".\"photo\" FROM \"diary_post\" LIMIT 21; args=()\n"
     ]
    },
    {
     "data": {
      "text/plain": [
       "<QuerySet [<Post: 첫제목>, <Post: 두번째 게시글>, <Post: 안녕이>, <Post: 오미크론 바이러스>]>"
      ]
     },
     "execution_count": 7,
     "metadata": {},
     "output_type": "execute_result"
    }
   ],
   "source": [
    "Post.objects.all() # 전체 포스팅 목록"
   ]
  },
  {
   "cell_type": "code",
   "execution_count": 8,
   "id": "6d773031",
   "metadata": {},
   "outputs": [
    {
     "name": "stderr",
     "output_type": "stream",
     "text": [
      "(0.000) SELECT \"diary_comment\".\"id\", \"diary_comment\".\"created_at\", \"diary_comment\".\"updated_at\", \"diary_comment\".\"post_id\", \"diary_comment\".\"author_name\", \"diary_comment\".\"message\" FROM \"diary_comment\" LIMIT 21; args=()\n"
     ]
    },
    {
     "data": {
      "text/plain": [
       "<QuerySet [<Comment: Comment object (1)>, <Comment: Comment object (2)>, <Comment: Comment object (3)>, <Comment: Comment object (4)>, <Comment: Comment object (5)>, <Comment: Comment object (6)>, <Comment: Comment object (7)>, <Comment: Comment object (8)>, <Comment: Comment object (9)>, <Comment: Comment object (10)>]>"
      ]
     },
     "execution_count": 8,
     "metadata": {},
     "output_type": "execute_result"
    }
   ],
   "source": [
    "Comment.objects.all() #전체 댓글 목록"
   ]
  },
  {
   "cell_type": "code",
   "execution_count": 9,
   "id": "caca468d",
   "metadata": {},
   "outputs": [
    {
     "name": "stderr",
     "output_type": "stream",
     "text": [
      "(0.000) SELECT \"diary_tag\".\"id\", \"diary_tag\".\"created_at\", \"diary_tag\".\"updated_at\", \"diary_tag\".\"name\" FROM \"diary_tag\" LIMIT 21; args=()\n"
     ]
    },
    {
     "data": {
      "text/plain": [
       "<QuerySet [<Tag: 태그1>, <Tag: 태그2>, <Tag: 태그3>, <Tag: 파이썬3>, <Tag: 질병>]>"
      ]
     },
     "execution_count": 9,
     "metadata": {},
     "output_type": "execute_result"
    }
   ],
   "source": [
    "Tag.objects.all() #전체 태그 목록"
   ]
  },
  {
   "cell_type": "code",
   "execution_count": null,
   "id": "7518bd80",
   "metadata": {},
   "outputs": [],
   "source": []
  },
  {
   "cell_type": "code",
   "execution_count": 10,
   "id": "1f50c782",
   "metadata": {},
   "outputs": [
    {
     "name": "stderr",
     "output_type": "stream",
     "text": [
      "(0.000) SELECT \"diary_post\".\"id\", \"diary_post\".\"created_at\", \"diary_post\".\"updated_at\", \"diary_post\".\"author_name\", \"diary_post\".\"title\", \"diary_post\".\"content\", \"diary_post\".\"photo\" FROM \"diary_post\" WHERE \"diary_post\".\"id\" = 1 LIMIT 21; args=(1,)\n"
     ]
    },
    {
     "data": {
      "text/plain": [
       "<Post: 첫제목>"
      ]
     },
     "execution_count": 10,
     "metadata": {},
     "output_type": "execute_result"
    }
   ],
   "source": [
    "post = Post.objects.get(pk=1) #1번 포스팅 획득\n",
    "post"
   ]
  },
  {
   "cell_type": "code",
   "execution_count": 11,
   "id": "7812cab8",
   "metadata": {
    "scrolled": true
   },
   "outputs": [
    {
     "name": "stderr",
     "output_type": "stream",
     "text": [
      "(0.000) SELECT COUNT(*) AS \"__count\" FROM \"diary_comment\"; args=()\n"
     ]
    },
    {
     "data": {
      "text/plain": [
       "10"
      ]
     },
     "execution_count": 11,
     "metadata": {},
     "output_type": "execute_result"
    }
   ],
   "source": [
    "qs = Comment.objects.all()\n",
    "qs.count()"
   ]
  },
  {
   "cell_type": "code",
   "execution_count": 12,
   "id": "4194af7d",
   "metadata": {},
   "outputs": [
    {
     "name": "stderr",
     "output_type": "stream",
     "text": [
      "(0.000) SELECT COUNT(*) AS \"__count\" FROM \"diary_comment\" WHERE \"diary_comment\".\"post_id\" = 1; args=(1,)\n"
     ]
    },
    {
     "data": {
      "text/plain": [
       "5"
      ]
     },
     "execution_count": 12,
     "metadata": {},
     "output_type": "execute_result"
    }
   ],
   "source": [
    "qs = Comment.objects.all()\n",
    "qs = qs.filter(post=post)\n",
    "qs.count()"
   ]
  },
  {
   "cell_type": "code",
   "execution_count": null,
   "id": "8c1410bf",
   "metadata": {},
   "outputs": [],
   "source": []
  },
  {
   "cell_type": "code",
   "execution_count": 13,
   "id": "0014eed5",
   "metadata": {},
   "outputs": [
    {
     "name": "stderr",
     "output_type": "stream",
     "text": [
      "(0.000) SELECT \"diary_comment\".\"id\", \"diary_comment\".\"created_at\", \"diary_comment\".\"updated_at\", \"diary_comment\".\"post_id\", \"diary_comment\".\"author_name\", \"diary_comment\".\"message\" FROM \"diary_comment\" WHERE \"diary_comment\".\"id\" = 1 LIMIT 21; args=(1,)\n"
     ]
    }
   ],
   "source": [
    "comment = Comment.objects.get(pk=1)"
   ]
  },
  {
   "cell_type": "code",
   "execution_count": 14,
   "id": "329a7deb",
   "metadata": {},
   "outputs": [
    {
     "name": "stderr",
     "output_type": "stream",
     "text": [
      "(0.000) SELECT \"diary_post\".\"id\", \"diary_post\".\"created_at\", \"diary_post\".\"updated_at\", \"diary_post\".\"author_name\", \"diary_post\".\"title\", \"diary_post\".\"content\", \"diary_post\".\"photo\" FROM \"diary_post\" WHERE \"diary_post\".\"id\" = 1 LIMIT 21; args=(1,)\n"
     ]
    },
    {
     "data": {
      "text/plain": [
       "<Post: 첫제목>"
      ]
     },
     "execution_count": 14,
     "metadata": {},
     "output_type": "execute_result"
    }
   ],
   "source": [
    "comment.post\n",
    "# 코멘트가 속한 포스트를 알아서 가져옴."
   ]
  },
  {
   "cell_type": "code",
   "execution_count": 16,
   "id": "74f29775",
   "metadata": {},
   "outputs": [
    {
     "name": "stderr",
     "output_type": "stream",
     "text": [
      "(0.000) SELECT \"diary_post\".\"id\", \"diary_post\".\"created_at\", \"diary_post\".\"updated_at\", \"diary_post\".\"author_name\", \"diary_post\".\"title\", \"diary_post\".\"content\", \"diary_post\".\"photo\" FROM \"diary_post\" WHERE \"diary_post\".\"id\" = 1 LIMIT 21; args=(1,)\n"
     ]
    },
    {
     "data": {
      "text/plain": [
       "<Post: 첫제목>"
      ]
     },
     "execution_count": 16,
     "metadata": {},
     "output_type": "execute_result"
    }
   ],
   "source": [
    "Post.objects.get(pk=1)"
   ]
  },
  {
   "cell_type": "code",
   "execution_count": null,
   "id": "b6925d27",
   "metadata": {},
   "outputs": [],
   "source": []
  },
  {
   "cell_type": "code",
   "execution_count": 19,
   "id": "0e2ca548",
   "metadata": {},
   "outputs": [
    {
     "name": "stderr",
     "output_type": "stream",
     "text": [
      "(0.000) SELECT \"diary_comment\".\"id\", \"diary_comment\".\"created_at\", \"diary_comment\".\"updated_at\", \"diary_comment\".\"post_id\", \"diary_comment\".\"author_name\", \"diary_comment\".\"message\" FROM \"diary_comment\" WHERE \"diary_comment\".\"post_id\" = 1 LIMIT 21; args=(1,)\n"
     ]
    },
    {
     "data": {
      "text/plain": [
       "<QuerySet [<Comment: Comment object (1)>, <Comment: Comment object (4)>, <Comment: Comment object (6)>, <Comment: Comment object (7)>, <Comment: Comment object (9)>]>"
      ]
     },
     "execution_count": 19,
     "metadata": {},
     "output_type": "execute_result"
    }
   ],
   "source": [
    "comment_list = Comment.objects.all().filter(post=post)\n",
    "comment_list"
   ]
  },
  {
   "cell_type": "code",
   "execution_count": 22,
   "id": "fac122a3",
   "metadata": {},
   "outputs": [
    {
     "name": "stderr",
     "output_type": "stream",
     "text": [
      "(0.000) SELECT \"diary_comment\".\"id\", \"diary_comment\".\"created_at\", \"diary_comment\".\"updated_at\", \"diary_comment\".\"post_id\", \"diary_comment\".\"author_name\", \"diary_comment\".\"message\" FROM \"diary_comment\" WHERE \"diary_comment\".\"post_id\" = 1 LIMIT 21; args=(1,)\n"
     ]
    },
    {
     "data": {
      "text/plain": [
       "<QuerySet [<Comment: Comment object (1)>, <Comment: Comment object (4)>, <Comment: Comment object (6)>, <Comment: Comment object (7)>, <Comment: Comment object (9)>]>"
      ]
     },
     "execution_count": 22,
     "metadata": {},
     "output_type": "execute_result"
    }
   ],
   "source": [
    "post.comment_set.all()"
   ]
  },
  {
   "cell_type": "code",
   "execution_count": null,
   "id": "85de458a",
   "metadata": {},
   "outputs": [],
   "source": []
  },
  {
   "cell_type": "code",
   "execution_count": 23,
   "id": "591929a8",
   "metadata": {},
   "outputs": [
    {
     "name": "stderr",
     "output_type": "stream",
     "text": [
      "(0.000) SELECT \"diary_tag\".\"id\", \"diary_tag\".\"created_at\", \"diary_tag\".\"updated_at\", \"diary_tag\".\"name\" FROM \"diary_tag\" INNER JOIN \"diary_post_tag_set\" ON (\"diary_tag\".\"id\" = \"diary_post_tag_set\".\"tag_id\") WHERE \"diary_post_tag_set\".\"post_id\" = 1 LIMIT 21; args=(1,)\n"
     ]
    },
    {
     "data": {
      "text/plain": [
       "<QuerySet [<Tag: 태그1>, <Tag: 태그2>, <Tag: 파이썬3>]>"
      ]
     },
     "execution_count": 23,
     "metadata": {},
     "output_type": "execute_result"
    }
   ],
   "source": [
    "post.tag_set.all()"
   ]
  },
  {
   "cell_type": "code",
   "execution_count": null,
   "id": "8ff9d947",
   "metadata": {},
   "outputs": [],
   "source": []
  },
  {
   "cell_type": "code",
   "execution_count": 25,
   "id": "51235d48",
   "metadata": {},
   "outputs": [
    {
     "name": "stderr",
     "output_type": "stream",
     "text": [
      "(0.000) SELECT \"diary_post\".\"id\", \"diary_post\".\"created_at\", \"diary_post\".\"updated_at\", \"diary_post\".\"author_name\", \"diary_post\".\"title\", \"diary_post\".\"content\", \"diary_post\".\"photo\" FROM \"diary_post\" INNER JOIN \"diary_post_tag_set\" ON (\"diary_post\".\"id\" = \"diary_post_tag_set\".\"post_id\") INNER JOIN \"diary_tag\" ON (\"diary_post_tag_set\".\"tag_id\" = \"diary_tag\".\"id\") WHERE \"diary_tag\".\"name\" = '질병' LIMIT 21; args=('질병',)\n"
     ]
    },
    {
     "data": {
      "text/plain": [
       "<QuerySet [<Post: 오미크론 바이러스>]>"
      ]
     },
     "execution_count": 25,
     "metadata": {},
     "output_type": "execute_result"
    }
   ],
   "source": [
    "qs = Post.objects.all()\n",
    "qs = qs.filter(tag_set__name=\"질병\")\n",
    "qs"
   ]
  },
  {
   "cell_type": "code",
   "execution_count": null,
   "id": "d56a3a30",
   "metadata": {},
   "outputs": [],
   "source": []
  },
  {
   "cell_type": "code",
   "execution_count": null,
   "id": "7091644c",
   "metadata": {},
   "outputs": [],
   "source": []
  },
  {
   "cell_type": "code",
   "execution_count": null,
   "id": "13f44de6",
   "metadata": {},
   "outputs": [],
   "source": []
  }
 ],
 "metadata": {
  "kernelspec": {
   "display_name": "Python 3 (ipykernel)",
   "language": "python",
   "name": "python3"
  },
  "language_info": {
   "codemirror_mode": {
    "name": "ipython",
    "version": 3
   },
   "file_extension": ".py",
   "mimetype": "text/x-python",
   "name": "python",
   "nbconvert_exporter": "python",
   "pygments_lexer": "ipython3",
   "version": "3.10.0"
  }
 },
 "nbformat": 4,
 "nbformat_minor": 5
}

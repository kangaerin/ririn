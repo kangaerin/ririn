{
 "cells": [
  {
   "cell_type": "code",
   "execution_count": 1,
   "id": "35bd0c22",
   "metadata": {},
   "outputs": [],
   "source": [
    "import os\n",
    "\n",
    "os.environ[\"DJANGO_SETTINGS_MODULE\"] = \"mydjango17.settings\"\n",
    "os.environ[\"DJANGO_ALLOW_ASYNC_UNSAFE\"] = \"true\"\n",
    "\n",
    "import django\n",
    "django.setup()"
   ]
  },
  {
   "cell_type": "code",
   "execution_count": 12,
   "id": "ddacb1d4",
   "metadata": {},
   "outputs": [],
   "source": [
    "from django import forms\n",
    "from django.core.validators import RegexValidator"
   ]
  },
  {
   "cell_type": "code",
   "execution_count": 18,
   "id": "f1649589",
   "metadata": {},
   "outputs": [],
   "source": [
    "class PostForm(forms.Form):\n",
    "    title = forms.CharField()\n",
    "    content = forms.CharField()\n",
    "    phone = forms.CharField(\n",
    "    validators=[\n",
    "        RegexValidator(r\"^\\d{3}-?\\d{4}-?\\d{4}$\", message=\"휴대폰 번호를 입력해주세요.\"),\n",
    "    ]\n",
    "    )"
   ]
  },
  {
   "cell_type": "markdown",
   "id": "0df1f874",
   "metadata": {},
   "source": [
    "## 입력 서식을 보여줍니다."
   ]
  },
  {
   "cell_type": "code",
   "execution_count": 19,
   "id": "98c32085",
   "metadata": {},
   "outputs": [
    {
     "data": {
      "text/plain": [
       "'<tr><th><label for=\"id_title\">Title:</label></th><td><input type=\"text\" name=\"title\" required id=\"id_title\"></td></tr>\\n<tr><th><label for=\"id_content\">Content:</label></th><td><input type=\"text\" name=\"content\" required id=\"id_content\"></td></tr>\\n<tr><th><label for=\"id_phone\">Phone:</label></th><td><input type=\"text\" name=\"phone\" required id=\"id_phone\"></td></tr>'"
      ]
     },
     "execution_count": 19,
     "metadata": {},
     "output_type": "execute_result"
    }
   ],
   "source": [
    "# 장고 Form을 통해, 입력 서식 HTML을 자동 생성\n",
    "form = PostForm()\n",
    "form.as_table()"
   ]
  },
  {
   "cell_type": "markdown",
   "id": "153cc410",
   "metadata": {},
   "source": [
    "## 입력 서식에 유저가 값을 기입하고 저장(submit)을 눌렀을 때"
   ]
  },
  {
   "cell_type": "code",
   "execution_count": 26,
   "id": "1d2d6978",
   "metadata": {},
   "outputs": [
    {
     "name": "stdout",
     "output_type": "stream",
     "text": [
      "유효성 검사에 통과한 값들 : {'title': '제목', 'content': '내용입니당', 'phone': '01012341234'}\n"
     ]
    }
   ],
   "source": [
    "data = {\n",
    "    \"title\": \"제목\",\n",
    "    \"content\": \"내용입니당\",\n",
    "    \"phone\" : \"01012341234\",\n",
    "}\n",
    "\n",
    "form = PostForm(data)\n",
    "if form.is_valid():\n",
    "    print(\"유효성 검사에 통과한 값들 :\", form.cleaned_data)\n",
    "else:\n",
    "    print(\"에러 메세지 HTML:\", form.errors)"
   ]
  },
  {
   "cell_type": "code",
   "execution_count": null,
   "id": "0c1ef95f",
   "metadata": {},
   "outputs": [],
   "source": []
  },
  {
   "cell_type": "code",
   "execution_count": null,
   "id": "b5d368a3",
   "metadata": {},
   "outputs": [],
   "source": []
  },
  {
   "cell_type": "code",
   "execution_count": null,
   "id": "d1ea6678",
   "metadata": {},
   "outputs": [],
   "source": []
  }
 ],
 "metadata": {
  "kernelspec": {
   "display_name": "Python 3 (ipykernel)",
   "language": "python",
   "name": "python3"
  },
  "language_info": {
   "codemirror_mode": {
    "name": "ipython",
    "version": 3
   },
   "file_extension": ".py",
   "mimetype": "text/x-python",
   "name": "python",
   "nbconvert_exporter": "python",
   "pygments_lexer": "ipython3",
   "version": "3.10.0"
  }
 },
 "nbformat": 4,
 "nbformat_minor": 5
}

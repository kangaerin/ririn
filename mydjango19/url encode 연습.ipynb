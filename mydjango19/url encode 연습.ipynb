{
 "cells": [
  {
   "cell_type": "code",
   "execution_count": 3,
   "id": "62f5d236",
   "metadata": {},
   "outputs": [],
   "source": [
    "from urllib.parse import urlencode"
   ]
  },
  {
   "cell_type": "code",
   "execution_count": 4,
   "id": "c24ffb6d",
   "metadata": {},
   "outputs": [],
   "source": [
    "data = {\n",
    "    \"key1\": \"value1\",\n",
    "    \"key2\": 10,\n",
    "    \"key3\": \"방탄소년단\",\n",
    "}"
   ]
  },
  {
   "cell_type": "code",
   "execution_count": 5,
   "id": "4889b983",
   "metadata": {},
   "outputs": [
    {
     "data": {
      "text/plain": [
       "'key1=value1&key2=10&key3=%EB%B0%A9%ED%83%84%EC%86%8C%EB%85%84%EB%8B%A8'"
      ]
     },
     "execution_count": 5,
     "metadata": {},
     "output_type": "execute_result"
    }
   ],
   "source": [
    "# urlencoded 방식으로 인코딩\n",
    "\n",
    "urlencode(data)"
   ]
  },
  {
   "cell_type": "code",
   "execution_count": 7,
   "id": "516ad59a",
   "metadata": {},
   "outputs": [
    {
     "data": {
      "text/plain": [
       "b'\\xeb\\xb0\\xa9\\xed\\x83\\x84\\xec\\x86\\x8c\\xeb\\x85\\x84\\xeb\\x8b\\xa8'"
      ]
     },
     "execution_count": 7,
     "metadata": {},
     "output_type": "execute_result"
    }
   ],
   "source": [
    "\"방탄소년단\".encode(\"utf8\")"
   ]
  },
  {
   "cell_type": "code",
   "execution_count": 9,
   "id": "59a152f9",
   "metadata": {},
   "outputs": [
    {
     "data": {
      "text/plain": [
       "b'\\xb9\\xe6\\xc5\\xba\\xbc\\xd2\\xb3\\xe2\\xb4\\xdc'"
      ]
     },
     "execution_count": 9,
     "metadata": {},
     "output_type": "execute_result"
    }
   ],
   "source": [
    "\"방탄소년단\".encode('cp949')"
   ]
  },
  {
   "cell_type": "code",
   "execution_count": 10,
   "id": "52e27413",
   "metadata": {},
   "outputs": [
    {
     "data": {
      "text/plain": [
       "b'\\xb9\\xe6\\xc5\\xba\\xbc\\xd2\\xb3\\xe2\\xb4\\xdc'"
      ]
     },
     "execution_count": 10,
     "metadata": {},
     "output_type": "execute_result"
    }
   ],
   "source": [
    "\"방탄소년단\".encode('euc-kr')"
   ]
  },
  {
   "cell_type": "code",
   "execution_count": 11,
   "id": "8ef028cd",
   "metadata": {},
   "outputs": [
    {
     "data": {
      "text/plain": [
       "'방탄소년단'"
      ]
     },
     "execution_count": 11,
     "metadata": {},
     "output_type": "execute_result"
    }
   ],
   "source": [
    "\"방탄소년단\".encode('cp949').decode('cp949')"
   ]
  },
  {
   "cell_type": "code",
   "execution_count": null,
   "id": "03e65510",
   "metadata": {},
   "outputs": [],
   "source": []
  },
  {
   "cell_type": "code",
   "execution_count": null,
   "id": "83de635d",
   "metadata": {},
   "outputs": [],
   "source": []
  },
  {
   "cell_type": "code",
   "execution_count": null,
   "id": "5ef25736",
   "metadata": {},
   "outputs": [],
   "source": []
  },
  {
   "cell_type": "code",
   "execution_count": null,
   "id": "5b8957ee",
   "metadata": {},
   "outputs": [],
   "source": []
  },
  {
   "cell_type": "code",
   "execution_count": null,
   "id": "126b6670",
   "metadata": {},
   "outputs": [],
   "source": []
  }
 ],
 "metadata": {
  "kernelspec": {
   "display_name": "Python 3 (ipykernel)",
   "language": "python",
   "name": "python3"
  },
  "language_info": {
   "codemirror_mode": {
    "name": "ipython",
    "version": 3
   },
   "file_extension": ".py",
   "mimetype": "text/x-python",
   "name": "python",
   "nbconvert_exporter": "python",
   "pygments_lexer": "ipython3",
   "version": "3.10.0"
  }
 },
 "nbformat": 4,
 "nbformat_minor": 5
}
